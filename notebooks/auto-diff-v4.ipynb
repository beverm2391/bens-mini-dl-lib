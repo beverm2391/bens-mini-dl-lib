{
 "cells": [
  {
   "cell_type": "code",
   "execution_count": 7,
   "metadata": {},
   "outputs": [],
   "source": [
    "from typing import List, Union, Optional\n",
    "import numpy as np\n",
    "from abc import ABC, abstractmethod"
   ]
  },
  {
   "cell_type": "code",
   "execution_count": 2,
   "metadata": {},
   "outputs": [],
   "source": [
    "class Tensor:\n",
    "    def __init__(self, data: Union[int, float, np.ndarray], dtype: str = 'float', requires_grad: bool = False, parents=None, creation_op=None):\n",
    "        self.data = np.array(data, dtype=dtype) # The data contained in the tensor\n",
    "        self.dtype = dtype # The data type of the tensor\n",
    "\n",
    "        self.requires_grad = requires_grad # Whether or not to compute gradients for this tensor\n",
    "        self.grad = None # The gradient of this tensor\n",
    "\n",
    "        self.parents = parents or []# Tensors from which this one was created\n",
    "        self.creation_op = creation_op # The operation that created this tensor\n",
    "\n",
    "    # Forward methods ===========================================================\n",
    "    #? Polymorphism: Define forward methods in a way that can be overridden in subclasses\n",
    "    def add(self, other: 'Tensor') -> 'Tensor':\n",
    "        \"\"\"Add two tensors. This should be overridden in subclasses for custom behavior.\"\"\"\n",
    "        raise NotImplementedError()\n",
    "    \n",
    "    def multiply(self, other):\n",
    "        \"\"\"Multiply two tensors. This should be overridden in subclasses for custom behavior.\"\"\"\n",
    "        raise NotImplementedError()\n",
    "    \n",
    "    # Backward methods =================\n",
    "    \n",
    "    def backward(self, grad=None):\n",
    "        \"\"\"Computes the gradient. This should be overridden in subclasses for custom behavior.\"\"\"\n",
    "        raise NotImplementedError()"
   ]
  },
  {
   "cell_type": "code",
   "execution_count": 4,
   "metadata": {},
   "outputs": [],
   "source": [
    "# Extend the base Tensor class\n",
    "class SimpleTensor(Tensor):\n",
    "    # Polymorphism: Override forward methods\n",
    "    \n",
    "    def add(self, other):\n",
    "        \"\"\"Add two SimpleTensors.\"\"\"\n",
    "        result = SimpleTensor(self.data + other.data, requires_grad=True)\n",
    "        result.parents = [self, other]\n",
    "        result.creation_op = \"add\"\n",
    "        return result\n",
    "    \n",
    "    def multiply(self, other):\n",
    "        \"\"\"Multiply two SimpleTensors.\"\"\"\n",
    "        result = SimpleTensor(self.data * other.data, requires_grad=True)\n",
    "        result.parents = [self, other]\n",
    "        result.creation_op = \"multiply\"\n",
    "        return result\n",
    "    \n",
    "    # Backward methods =================\n",
    "    \n",
    "    def backward(self, grad=None):\n",
    "        \"\"\"Computes the gradient for SimpleTensor.\"\"\"\n",
    "        # Your backward logic here\n",
    "        pass"
   ]
  },
  {
   "cell_type": "code",
   "execution_count": 5,
   "metadata": {},
   "outputs": [],
   "source": [
    "# Factory pattern example\n",
    "def create_tensor(data, tensor_type=\"SimpleTensor\", **kwargs):\n",
    "    if tensor_type == \"SimpleTensor\":\n",
    "        return SimpleTensor(data, **kwargs)\n",
    "    else:\n",
    "        raise ValueError(f\"Unknown tensor type: {tensor_type}\")"
   ]
  },
  {
   "cell_type": "code",
   "execution_count": 6,
   "metadata": {},
   "outputs": [],
   "source": [
    "# Decorator example for type checking\n",
    "def ensure_tensor(func):\n",
    "    def wrapper(self, other):\n",
    "        if not isinstance(other, Tensor):\n",
    "            other = create_tensor(other)\n",
    "        return func(self, other)\n",
    "    return wrapper"
   ]
  }
 ],
 "metadata": {
  "kernelspec": {
   "display_name": "venv",
   "language": "python",
   "name": "python3"
  },
  "language_info": {
   "codemirror_mode": {
    "name": "ipython",
    "version": 3
   },
   "file_extension": ".py",
   "mimetype": "text/x-python",
   "name": "python",
   "nbconvert_exporter": "python",
   "pygments_lexer": "ipython3",
   "version": "3.10.0"
  },
  "orig_nbformat": 4
 },
 "nbformat": 4,
 "nbformat_minor": 2
}
