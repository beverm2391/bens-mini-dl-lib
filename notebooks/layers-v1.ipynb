{
 "cells": [
  {
   "cell_type": "code",
   "execution_count": 1,
   "metadata": {},
   "outputs": [],
   "source": [
    "from lib.Tensor import Tensor\n",
    "import numpy as np"
   ]
  },
  {
   "cell_type": "code",
   "execution_count": 17,
   "metadata": {},
   "outputs": [],
   "source": [
    "class Layer:\n",
    "    def __init__(self):\n",
    "        self.input = None\n",
    "        self.output = None\n",
    "\n",
    "    def forward(self, input_data):\n",
    "        \"\"\"\n",
    "        Compute the output of this layer using `input_data`.\n",
    "        \"\"\"\n",
    "\n",
    "        raise NotImplementedError\n",
    "    \n",
    "    def backward(self, output_gradient):\n",
    "        \"\"\"\n",
    "        Compute the input gradient using `output_gradient` and\n",
    "        chain it with the local gradient.\n",
    "        \"\"\"\n",
    "        raise NotImplementedError"
   ]
  },
  {
   "cell_type": "code",
   "execution_count": null,
   "metadata": {},
   "outputs": [],
   "source": [
    "class Dense(Layer):\n",
    "    def __init__(self, input_dim, output_dim, lr):\n",
    "        self.lr = lr\n",
    "        self.weights = Tensor(np.random.randn(input_dim, output_dim) * 0.01) # init weights\n",
    "        self.biases = Tensor(np.zeros((1, output_dim))) # init biases\n",
    "\n",
    "    def forward(self, input_data):\n",
    "        self.input = input_data\n",
    "        self.output = input_data @ self.weights + self.biases # o = xW + b\n",
    "        return self.output\n",
    "    \n",
    "    def backward(self, output_gradient):\n",
    "        output_gradient = Tensor(output_gradient)  # make sure it's a Tensor\n",
    "\n",
    "        # calculate gradients\n",
    "        input_gradient = output_gradient @ self.weights.T # dL/dx = dL/do * W^T\n",
    "        weights_gradient = self.input.T @ output_gradient # dL/dW = x^T * dL/do\n",
    "        biases_gradient = np.sum(output_gradient, axis=0, keepdims=True) # dL/db = sum(dL/do)\n",
    "\n",
    "        # update parameters\n",
    "        self.weights -= self.lr * weights_gradient # update weights using gradient descent\n",
    "        self.biases -= self.lr * biases_gradient # update biases using gradient descent\n",
    "\n",
    "        return input_gradient"
   ]
  }
 ],
 "metadata": {
  "kernelspec": {
   "display_name": "venv",
   "language": "python",
   "name": "python3"
  },
  "language_info": {
   "codemirror_mode": {
    "name": "ipython",
    "version": 3
   },
   "file_extension": ".py",
   "mimetype": "text/x-python",
   "name": "python",
   "nbconvert_exporter": "python",
   "pygments_lexer": "ipython3",
   "version": "3.10.0"
  },
  "orig_nbformat": 4
 },
 "nbformat": 4,
 "nbformat_minor": 2
}
