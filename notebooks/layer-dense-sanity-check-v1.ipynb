{
 "cells": [
  {
   "cell_type": "code",
   "execution_count": 1,
   "metadata": {},
   "outputs": [],
   "source": [
    "import numpy as np\n",
    "from typing import List\n",
    "import torch\n",
    "\n",
    "from lib.TensorV2 import Tensor\n",
    "from lib.NN import Layer"
   ]
  },
  {
   "cell_type": "code",
   "execution_count": 5,
   "metadata": {},
   "outputs": [],
   "source": [
    "class Dense(Layer):\n",
    "    def __init__(self, input_dim: int, output_dim: int):\n",
    "        super().__init__()\n",
    "        self.input_dim = input_dim\n",
    "        self.output_dim = output_dim\n",
    "        self.weights = Tensor.randn(output_dim, input_dim) * 0.01 # init backwards (output_dim, input_dim) for computational efficiency\n",
    "        self.biases = Tensor.zeros(output_dim)\n",
    "\n",
    "    def forward(self, inputs: Tensor) -> Tensor:\n",
    "        return inputs @ self.weights.T + self.biases # transpose weights for computational efficiency\n",
    "    \n",
    "    def parameters(self) -> List[Tensor]:\n",
    "        return [self.weights, self.biases]"
   ]
  },
  {
   "cell_type": "code",
   "execution_count": 9,
   "metadata": {},
   "outputs": [],
   "source": [
    "def test_dense():\n",
    "    input_dim = 5\n",
    "    output_dim = 3\n",
    "    batch_size = 10\n",
    "\n",
    "    pt_dense = torch.nn.Linear(input_dim, output_dim)\n",
    "    dense = Dense(input_dim, output_dim)\n",
    "\n",
    "    # copy the weights and biases from custom layer to pytorch layer\n",
    "    with torch.no_grad():\n",
    "        pt_dense.weight.copy_(torch.tensor(dense.weights.data))\n",
    "        pt_dense.bias.copy_(torch.tensor(dense.biases.data))\n",
    "\n",
    "    pt_input = torch.randn(batch_size, input_dim) # pytorch tensor\n",
    "    input = Tensor(pt_input.numpy()) # copy the pytorch tensor\n",
    "\n",
    "    pt_output = pt_dense(pt_input) # pytorch output\n",
    "    output = dense(input) # custom output\n",
    "\n",
    "    # compare the outputs\n",
    "    assert np.allclose(pt_output.detach().numpy(), output.data, atol=1e-6)"
   ]
  },
  {
   "cell_type": "code",
   "execution_count": 10,
   "metadata": {},
   "outputs": [],
   "source": [
    "test_dense()"
   ]
  }
 ],
 "metadata": {
  "kernelspec": {
   "display_name": "venv",
   "language": "python",
   "name": "python3"
  },
  "language_info": {
   "codemirror_mode": {
    "name": "ipython",
    "version": 3
   },
   "file_extension": ".py",
   "mimetype": "text/x-python",
   "name": "python",
   "nbconvert_exporter": "python",
   "pygments_lexer": "ipython3",
   "version": "3.10.0"
  },
  "orig_nbformat": 4
 },
 "nbformat": 4,
 "nbformat_minor": 2
}
