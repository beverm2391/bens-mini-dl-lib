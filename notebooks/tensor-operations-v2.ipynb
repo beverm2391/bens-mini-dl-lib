{
 "cells": [
  {
   "cell_type": "code",
   "execution_count": 1,
   "metadata": {},
   "outputs": [],
   "source": [
    "import pytest\n",
    "\n",
    "from lib.Tensor import Tensor"
   ]
  },
  {
   "cell_type": "code",
   "execution_count": 2,
   "metadata": {},
   "outputs": [],
   "source": [
    "t = Tensor([1, 2, 3, 4, 5])\n",
    "s = 2\n",
    "st = Tensor(s)"
   ]
  },
  {
   "cell_type": "code",
   "execution_count": null,
   "metadata": {},
   "outputs": [],
   "source": [
    "t1 = t + s\n",
    "t2 = Tensor([3, 4, 5, 6, 7])\n",
    "\n",
    "print(type(t1))\n",
    "print(type(t2))\n",
    "print(t1 == t2)"
   ]
  },
  {
   "cell_type": "code",
   "execution_count": null,
   "metadata": {},
   "outputs": [],
   "source": []
  },
  {
   "cell_type": "code",
   "execution_count": null,
   "metadata": {},
   "outputs": [],
   "source": [
    "def test_vector_and_scalar():\n",
    "    t = Tensor([1, 2, 3, 4, 5])\n",
    "    s = 2\n",
    "    assert t + s == Tensor([3, 4, 5, 6, 7])\n",
    "    assert t - s == Tensor([-1, 0, 1, 2, 3])\n",
    "    assert t * s == Tensor([2, 4, 6, 8, 10])\n",
    "    assert t / s == Tensor([0.5, 1, 1.5, 2, 2.5])\n",
    "    # assert t @ s == Tensor([2, 4, 6, 8, 10]) # TODO fix matmul\n",
    "    \n",
    "\n",
    "test_vector_and_scalar()"
   ]
  },
  {
   "cell_type": "code",
   "execution_count": null,
   "metadata": {},
   "outputs": [],
   "source": [
    "def test_scalar_and_scalar():\n",
    "    t = Tensor(5)\n",
    "    s = 2\n",
    "    assert t + s == Tensor(7)\n",
    "    assert t - s == Tensor(3)\n",
    "    assert t * s == Tensor(10)\n",
    "    assert t / s == Tensor(2.5)\n",
    "\n",
    "test_scalar_and_scalar()"
   ]
  },
  {
   "cell_type": "code",
   "execution_count": null,
   "metadata": {},
   "outputs": [],
   "source": [
    "v = Tensor([1, 2, 3, 4, 5])\n",
    "v2 = Tensor([1, 2, 3, 4])\n",
    "v @ v2"
   ]
  },
  {
   "cell_type": "code",
   "execution_count": null,
   "metadata": {},
   "outputs": [],
   "source": [
    "def test_vector_and_vector():\n",
    "    v = Tensor([1, 2, 3, 4, 5])\n",
    "    v2 = Tensor([2, 3, 4, 5, 6])\n",
    "\n",
    "    assert v + v2 == Tensor([3, 5, 7, 9, 11])\n",
    "    assert v - v2 == Tensor([-1, -1, -1, -1, -1])\n",
    "    assert v * v2 == Tensor([2, 6, 12, 20, 30])\n",
    "    assert v / v2 == Tensor([0.5, 2/3, 3/4, 4/5, 5/6])\n",
    "    assert v @ v2 == Tensor(70)\n",
    "\n",
    "test_vector_and_vector()"
   ]
  },
  {
   "cell_type": "code",
   "execution_count": null,
   "metadata": {},
   "outputs": [],
   "source": [
    "def test_vector_and_tensor():\n",
    "    v = Tensor([1, 2, 3])\n",
    "    v2 = Tensor([1, 2, 3, 4])\n",
    "    t = Tensor([\n",
    "        [1, 2, 3],\n",
    "        [4, 5, 6],\n",
    "        [7, 8, 9]\n",
    "    ])\n",
    "\n",
    "    assert v @ t == Tensor([30, 36, 42])\n",
    "\n",
    "    with pytest.raises(ValueError):\n",
    "        v2 @ t\n",
    "\n",
    "test_vector_and_tensor()"
   ]
  },
  {
   "cell_type": "code",
   "execution_count": null,
   "metadata": {},
   "outputs": [],
   "source": [
    "def test_tensor_and_tensor():\n",
    "    t = Tensor([\n",
    "        [1, 2, 3],\n",
    "        [4, 5, 6],\n",
    "        [7, 8, 9]\n",
    "    ])\n",
    "\n",
    "    t2 = Tensor([\n",
    "        [1, 2, 3],\n",
    "        [4, 5, 6],\n",
    "        [7, 8, 9]\n",
    "    ])\n",
    "\n",
    "    t3 = Tensor([\n",
    "        [1, 2, 3],\n",
    "        [4, 5, 6]\n",
    "    ])\n",
    "\n",
    "    assert t @ t2 == Tensor([\n",
    "        [30, 36, 42],\n",
    "        [66, 81, 96],\n",
    "        [102, 126, 150]\n",
    "    ])\n",
    "\n",
    "    with pytest.raises(ValueError):\n",
    "        t @ t3\n",
    "\n",
    "test_tensor_and_tensor()"
   ]
  },
  {
   "cell_type": "code",
   "execution_count": null,
   "metadata": {},
   "outputs": [],
   "source": [
    "def test_scalar_and_scalar():\n",
    "    t = Tensor(5)\n",
    "    s = 2\n",
    "    assert t + s == Tensor(7)\n",
    "    assert t - s == Tensor(3)\n",
    "    assert t * s == Tensor(10)\n",
    "    assert t / s == Tensor(2.5)\n",
    "\n",
    "def test_vector_and_scalar():\n",
    "    t = Tensor([1, 2, 3, 4, 5])\n",
    "    s = 2\n",
    "    assert t + s == Tensor([3, 4, 5, 6, 7])\n",
    "    assert t - s == Tensor([-1, 0, 1, 2, 3])\n",
    "    assert t * s == Tensor([2, 4, 6, 8, 10])\n",
    "    assert t / s == Tensor([0.5, 1, 1.5, 2, 2.5])\n",
    "    # assert t @ s == Tensor([2, 4, 6, 8, 10]) # TODO fix matmul\n",
    "    \n",
    "def test_vector_and_vector():\n",
    "    v = Tensor([1, 2, 3, 4, 5])\n",
    "    v2 = Tensor([2, 3, 4, 5, 6])\n",
    "\n",
    "    assert v + v2 == Tensor([3, 5, 7, 9, 11])\n",
    "    assert v - v2 == Tensor([-1, -1, -1, -1, -1])\n",
    "    assert v * v2 == Tensor([2, 6, 12, 20, 30])\n",
    "    assert v / v2 == Tensor([0.5, 2/3, 3/4, 4/5, 5/6])\n",
    "    assert v @ v2 == Tensor(70)\n",
    "\n",
    "def test_vector_and_tensor():\n",
    "    v = Tensor([1, 2, 3])\n",
    "    v2 = Tensor([1, 2, 3, 4])\n",
    "    t = Tensor([\n",
    "        [1, 2, 3],\n",
    "        [4, 5, 6],\n",
    "        [7, 8, 9]\n",
    "    ])\n",
    "\n",
    "    assert v @ t == Tensor([30, 36, 42])\n",
    "\n",
    "    with pytest.raises(ValueError):\n",
    "        v2 @ t\n",
    "\n",
    "def test_tensor_and_tensor():\n",
    "    t = Tensor([\n",
    "        [1, 2, 3],\n",
    "        [4, 5, 6],\n",
    "        [7, 8, 9]\n",
    "    ])\n",
    "\n",
    "    t2 = Tensor([\n",
    "        [1, 2, 3],\n",
    "        [4, 5, 6],\n",
    "        [7, 8, 9]\n",
    "    ])\n",
    "\n",
    "    t3 = Tensor([\n",
    "        [1, 2, 3],\n",
    "        [4, 5, 6]\n",
    "    ])\n",
    "\n",
    "    assert t @ t2 == Tensor([\n",
    "        [30, 36, 42],\n",
    "        [66, 81, 96],\n",
    "        [102, 126, 150]\n",
    "    ])\n",
    "\n",
    "    with pytest.raises(ValueError):\n",
    "        t @ t3"
   ]
  },
  {
   "cell_type": "code",
   "execution_count": null,
   "metadata": {},
   "outputs": [],
   "source": [
    "def test_all_basic_methods():\n",
    "    test_scalar_and_scalar()\n",
    "    test_vector_and_scalar()\n",
    "    test_vector_and_vector()\n",
    "    test_vector_and_tensor()\n",
    "    test_tensor_and_tensor()"
   ]
  },
  {
   "cell_type": "code",
   "execution_count": 4,
   "metadata": {},
   "outputs": [],
   "source": [
    "v3 = Tensor([1, 2, 3, 4])\n",
    "m3 = Tensor([\n",
    "    [1, 2, 3, 4],\n",
    "    [5, 6, 7, 8]\n",
    "])"
   ]
  },
  {
   "cell_type": "code",
   "execution_count": 5,
   "metadata": {},
   "outputs": [
    {
     "name": "stderr",
     "output_type": "stream",
     "text": [
      "/Users/beneverman/Documents/Coding/bens-mini-dl/lib/Tensor.py:98: UserWarning: One of your inputs is a scalar. Using element-wise multiplication instead. Use the * operator insead of @.\n",
      "  warnings.warn(\"One of your inputs is a scalar. Using element-wise multiplication instead. Use the * operator insead of @.\")\n"
     ]
    },
    {
     "data": {
      "text/plain": [
       "Tensor([1 2 3 4], requires_grad=True)"
      ]
     },
     "execution_count": 5,
     "metadata": {},
     "output_type": "execute_result"
    }
   ],
   "source": [
    "import numpy as np\n",
    "v3 @ Tensor(1)"
   ]
  },
  {
   "cell_type": "code",
   "execution_count": 16,
   "metadata": {},
   "outputs": [
    {
     "data": {
      "text/plain": [
       "Tensor(16, requires_grad=True)"
      ]
     },
     "execution_count": 16,
     "metadata": {},
     "output_type": "execute_result"
    }
   ],
   "source": [
    "m3.squeeze().unsqueeze(1).T.squeeze().T.squeeze().max() @ Tensor(2).T"
   ]
  },
  {
   "cell_type": "code",
   "execution_count": 7,
   "metadata": {},
   "outputs": [],
   "source": [
    "s = Tensor(1)"
   ]
  },
  {
   "cell_type": "code",
   "execution_count": 12,
   "metadata": {},
   "outputs": [
    {
     "ename": "AxisError",
     "evalue": "axis 1 is out of bounds for array of dimension 1",
     "output_type": "error",
     "traceback": [
      "\u001b[0;31m---------------------------------------------------------------------------\u001b[0m",
      "\u001b[0;31mAxisError\u001b[0m                                 Traceback (most recent call last)",
      "Cell \u001b[0;32mIn[12], line 1\u001b[0m\n\u001b[0;32m----> 1\u001b[0m s\u001b[39m.\u001b[39;49munsqueeze(\u001b[39m1\u001b[39;49m)\n",
      "File \u001b[0;32m~/Documents/Coding/bens-mini-dl/lib/Tensor.py:158\u001b[0m, in \u001b[0;36mTensor.unsqueeze\u001b[0;34m(self, axis)\u001b[0m\n\u001b[1;32m    157\u001b[0m \u001b[39mdef\u001b[39;00m \u001b[39munsqueeze\u001b[39m(\u001b[39mself\u001b[39m, axis):\n\u001b[0;32m--> 158\u001b[0m     \u001b[39mreturn\u001b[39;00m Tensor(np\u001b[39m.\u001b[39;49mexpand_dims(\u001b[39mself\u001b[39;49m\u001b[39m.\u001b[39;49mdata, axis\u001b[39m=\u001b[39;49maxis))\n",
      "File \u001b[0;32m~/Documents/Coding/bens-mini-dl/venv/lib/python3.10/site-packages/numpy/lib/shape_base.py:597\u001b[0m, in \u001b[0;36mexpand_dims\u001b[0;34m(a, axis)\u001b[0m\n\u001b[1;32m    594\u001b[0m     axis \u001b[39m=\u001b[39m (axis,)\n\u001b[1;32m    596\u001b[0m out_ndim \u001b[39m=\u001b[39m \u001b[39mlen\u001b[39m(axis) \u001b[39m+\u001b[39m a\u001b[39m.\u001b[39mndim\n\u001b[0;32m--> 597\u001b[0m axis \u001b[39m=\u001b[39m normalize_axis_tuple(axis, out_ndim)\n\u001b[1;32m    599\u001b[0m shape_it \u001b[39m=\u001b[39m \u001b[39miter\u001b[39m(a\u001b[39m.\u001b[39mshape)\n\u001b[1;32m    600\u001b[0m shape \u001b[39m=\u001b[39m [\u001b[39m1\u001b[39m \u001b[39mif\u001b[39;00m ax \u001b[39min\u001b[39;00m axis \u001b[39melse\u001b[39;00m \u001b[39mnext\u001b[39m(shape_it) \u001b[39mfor\u001b[39;00m ax \u001b[39min\u001b[39;00m \u001b[39mrange\u001b[39m(out_ndim)]\n",
      "File \u001b[0;32m~/Documents/Coding/bens-mini-dl/venv/lib/python3.10/site-packages/numpy/core/numeric.py:1380\u001b[0m, in \u001b[0;36mnormalize_axis_tuple\u001b[0;34m(axis, ndim, argname, allow_duplicate)\u001b[0m\n\u001b[1;32m   1378\u001b[0m         \u001b[39mpass\u001b[39;00m\n\u001b[1;32m   1379\u001b[0m \u001b[39m# Going via an iterator directly is slower than via list comprehension.\u001b[39;00m\n\u001b[0;32m-> 1380\u001b[0m axis \u001b[39m=\u001b[39m \u001b[39mtuple\u001b[39m([normalize_axis_index(ax, ndim, argname) \u001b[39mfor\u001b[39;00m ax \u001b[39min\u001b[39;00m axis])\n\u001b[1;32m   1381\u001b[0m \u001b[39mif\u001b[39;00m \u001b[39mnot\u001b[39;00m allow_duplicate \u001b[39mand\u001b[39;00m \u001b[39mlen\u001b[39m(\u001b[39mset\u001b[39m(axis)) \u001b[39m!=\u001b[39m \u001b[39mlen\u001b[39m(axis):\n\u001b[1;32m   1382\u001b[0m     \u001b[39mif\u001b[39;00m argname:\n",
      "File \u001b[0;32m~/Documents/Coding/bens-mini-dl/venv/lib/python3.10/site-packages/numpy/core/numeric.py:1380\u001b[0m, in \u001b[0;36m<listcomp>\u001b[0;34m(.0)\u001b[0m\n\u001b[1;32m   1378\u001b[0m         \u001b[39mpass\u001b[39;00m\n\u001b[1;32m   1379\u001b[0m \u001b[39m# Going via an iterator directly is slower than via list comprehension.\u001b[39;00m\n\u001b[0;32m-> 1380\u001b[0m axis \u001b[39m=\u001b[39m \u001b[39mtuple\u001b[39m([normalize_axis_index(ax, ndim, argname) \u001b[39mfor\u001b[39;00m ax \u001b[39min\u001b[39;00m axis])\n\u001b[1;32m   1381\u001b[0m \u001b[39mif\u001b[39;00m \u001b[39mnot\u001b[39;00m allow_duplicate \u001b[39mand\u001b[39;00m \u001b[39mlen\u001b[39m(\u001b[39mset\u001b[39m(axis)) \u001b[39m!=\u001b[39m \u001b[39mlen\u001b[39m(axis):\n\u001b[1;32m   1382\u001b[0m     \u001b[39mif\u001b[39;00m argname:\n",
      "\u001b[0;31mAxisError\u001b[0m: axis 1 is out of bounds for array of dimension 1"
     ]
    }
   ],
   "source": [
    "s.unsqueeze(1)"
   ]
  },
  {
   "cell_type": "code",
   "execution_count": 18,
   "metadata": {},
   "outputs": [
    {
     "data": {
      "text/plain": [
       "Tensor([[1 5]\n",
       " [2 6]\n",
       " [3 7]\n",
       " [4 8]], requires_grad=True)"
      ]
     },
     "execution_count": 18,
     "metadata": {},
     "output_type": "execute_result"
    }
   ],
   "source": [
    "m3.T"
   ]
  }
 ],
 "metadata": {
  "kernelspec": {
   "display_name": "venv",
   "language": "python",
   "name": "python3"
  },
  "language_info": {
   "codemirror_mode": {
    "name": "ipython",
    "version": 3
   },
   "file_extension": ".py",
   "mimetype": "text/x-python",
   "name": "python",
   "nbconvert_exporter": "python",
   "pygments_lexer": "ipython3",
   "version": "3.10.0"
  },
  "orig_nbformat": 4
 },
 "nbformat": 4,
 "nbformat_minor": 2
}
