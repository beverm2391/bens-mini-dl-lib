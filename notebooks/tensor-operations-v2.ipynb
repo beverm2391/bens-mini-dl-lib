{
 "cells": [
  {
   "cell_type": "code",
   "execution_count": 10,
   "metadata": {},
   "outputs": [],
   "source": [
    "import pytest\n",
    "\n",
    "from lib.Tensor import Tensor"
   ]
  },
  {
   "cell_type": "code",
   "execution_count": 2,
   "metadata": {},
   "outputs": [],
   "source": [
    "t = Tensor([1, 2, 3, 4, 5])\n",
    "s = 2\n",
    "st = Tensor(s)"
   ]
  },
  {
   "cell_type": "code",
   "execution_count": 3,
   "metadata": {},
   "outputs": [
    {
     "name": "stdout",
     "output_type": "stream",
     "text": [
      "<class 'lib.Tensor.Tensor'>\n",
      "<class 'lib.Tensor.Tensor'>\n",
      "True\n"
     ]
    }
   ],
   "source": [
    "t1 = t + s\n",
    "t2 = Tensor([3, 4, 5, 6, 7])\n",
    "\n",
    "print(type(t1))\n",
    "print(type(t2))\n",
    "print(t1 == t2)"
   ]
  },
  {
   "cell_type": "code",
   "execution_count": null,
   "metadata": {},
   "outputs": [],
   "source": []
  },
  {
   "cell_type": "code",
   "execution_count": 4,
   "metadata": {},
   "outputs": [],
   "source": [
    "def test_vector_and_scalar():\n",
    "    t = Tensor([1, 2, 3, 4, 5])\n",
    "    s = 2\n",
    "    assert t + s == Tensor([3, 4, 5, 6, 7])\n",
    "    assert t - s == Tensor([-1, 0, 1, 2, 3])\n",
    "    assert t * s == Tensor([2, 4, 6, 8, 10])\n",
    "    assert t / s == Tensor([0.5, 1, 1.5, 2, 2.5])\n",
    "    # assert t @ s == Tensor([2, 4, 6, 8, 10]) # TODO fix matmul\n",
    "    \n",
    "\n",
    "test_vector_and_scalar()"
   ]
  },
  {
   "cell_type": "code",
   "execution_count": 5,
   "metadata": {},
   "outputs": [],
   "source": [
    "def test_scalar_and_scalar():\n",
    "    t = Tensor(5)\n",
    "    s = 2\n",
    "    assert t + s == Tensor(7)\n",
    "    assert t - s == Tensor(3)\n",
    "    assert t * s == Tensor(10)\n",
    "    assert t / s == Tensor(2.5)\n",
    "\n",
    "test_scalar_and_scalar()"
   ]
  },
  {
   "cell_type": "code",
   "execution_count": 6,
   "metadata": {},
   "outputs": [
    {
     "ename": "ValueError",
     "evalue": "Cannot perform matrix multiplication on tensors with shapes (5,) and (4,).",
     "output_type": "error",
     "traceback": [
      "\u001b[0;31m---------------------------------------------------------------------------\u001b[0m",
      "\u001b[0;31mValueError\u001b[0m                                Traceback (most recent call last)",
      "Cell \u001b[0;32mIn[6], line 3\u001b[0m\n\u001b[1;32m      1\u001b[0m v \u001b[39m=\u001b[39m Tensor([\u001b[39m1\u001b[39m, \u001b[39m2\u001b[39m, \u001b[39m3\u001b[39m, \u001b[39m4\u001b[39m, \u001b[39m5\u001b[39m])\n\u001b[1;32m      2\u001b[0m v2 \u001b[39m=\u001b[39m Tensor([\u001b[39m1\u001b[39m, \u001b[39m2\u001b[39m, \u001b[39m3\u001b[39m, \u001b[39m4\u001b[39m])\n\u001b[0;32m----> 3\u001b[0m v \u001b[39m@\u001b[39;49m v2\n",
      "File \u001b[0;32m~/Documents/Coding/bens-mini-dl/lib/Tensor.py:95\u001b[0m, in \u001b[0;36mTensor.__matmul__\u001b[0;34m(self, other)\u001b[0m\n\u001b[1;32m     93\u001b[0m \u001b[39mif\u001b[39;00m \u001b[39mself\u001b[39m\u001b[39m.\u001b[39mdata\u001b[39m.\u001b[39mndim \u001b[39m==\u001b[39m \u001b[39m1\u001b[39m \u001b[39mand\u001b[39;00m other\u001b[39m.\u001b[39mdata\u001b[39m.\u001b[39mndim \u001b[39m==\u001b[39m \u001b[39m1\u001b[39m: \u001b[39m# if both are vectors\u001b[39;00m\n\u001b[1;32m     94\u001b[0m     \u001b[39mif\u001b[39;00m \u001b[39mself\u001b[39m\u001b[39m.\u001b[39mdata\u001b[39m.\u001b[39mshape[\u001b[39m0\u001b[39m] \u001b[39m!=\u001b[39m other\u001b[39m.\u001b[39mdata\u001b[39m.\u001b[39mshape[\u001b[39m0\u001b[39m]: \u001b[39m# if the vectors are not the same length\u001b[39;00m\n\u001b[0;32m---> 95\u001b[0m         \u001b[39mraise\u001b[39;00m \u001b[39mValueError\u001b[39;00m(\u001b[39mf\u001b[39m\u001b[39m\"\u001b[39m\u001b[39mCannot perform matrix multiplication on tensors with shapes \u001b[39m\u001b[39m{\u001b[39;00m\u001b[39mself\u001b[39m\u001b[39m.\u001b[39mdata\u001b[39m.\u001b[39mshape\u001b[39m}\u001b[39;00m\u001b[39m and \u001b[39m\u001b[39m{\u001b[39;00mother\u001b[39m.\u001b[39mdata\u001b[39m.\u001b[39mshape\u001b[39m}\u001b[39;00m\u001b[39m.\u001b[39m\u001b[39m\"\u001b[39m)\n\u001b[1;32m     97\u001b[0m \u001b[39m# v * m\u001b[39;00m\n\u001b[1;32m     98\u001b[0m \u001b[39mif\u001b[39;00m \u001b[39mself\u001b[39m\u001b[39m.\u001b[39mdata\u001b[39m.\u001b[39mndim \u001b[39m==\u001b[39m \u001b[39m1\u001b[39m \u001b[39mand\u001b[39;00m other\u001b[39m.\u001b[39mdata\u001b[39m.\u001b[39mndim \u001b[39m>\u001b[39m \u001b[39m1\u001b[39m:\n",
      "\u001b[0;31mValueError\u001b[0m: Cannot perform matrix multiplication on tensors with shapes (5,) and (4,)."
     ]
    }
   ],
   "source": [
    "v = Tensor([1, 2, 3, 4, 5])\n",
    "v2 = Tensor([1, 2, 3, 4])\n",
    "v @ v2"
   ]
  },
  {
   "cell_type": "code",
   "execution_count": 7,
   "metadata": {},
   "outputs": [],
   "source": [
    "def test_vector_and_vector():\n",
    "    v = Tensor([1, 2, 3, 4, 5])\n",
    "    v2 = Tensor([2, 3, 4, 5, 6])\n",
    "\n",
    "    assert v + v2 == Tensor([3, 5, 7, 9, 11])\n",
    "    assert v - v2 == Tensor([-1, -1, -1, -1, -1])\n",
    "    assert v * v2 == Tensor([2, 6, 12, 20, 30])\n",
    "    assert v / v2 == Tensor([0.5, 2/3, 3/4, 4/5, 5/6])\n",
    "    assert v @ v2 == Tensor(70)\n",
    "\n",
    "test_vector_and_vector()"
   ]
  },
  {
   "cell_type": "code",
   "execution_count": 11,
   "metadata": {},
   "outputs": [],
   "source": [
    "def test_vector_and_tensor():\n",
    "    v = Tensor([1, 2, 3])\n",
    "    v2 = Tensor([1, 2, 3, 4])\n",
    "    t = Tensor([\n",
    "        [1, 2, 3],\n",
    "        [4, 5, 6],\n",
    "        [7, 8, 9]\n",
    "    ])\n",
    "\n",
    "    assert v @ t == Tensor([30, 36, 42])\n",
    "\n",
    "    with pytest.raises(ValueError):\n",
    "        v2 @ t\n",
    "\n",
    "test_vector_and_tensor()"
   ]
  },
  {
   "cell_type": "code",
   "execution_count": 12,
   "metadata": {},
   "outputs": [],
   "source": [
    "def test_tensor_and_tensor():\n",
    "    t = Tensor([\n",
    "        [1, 2, 3],\n",
    "        [4, 5, 6],\n",
    "        [7, 8, 9]\n",
    "    ])\n",
    "\n",
    "    t2 = Tensor([\n",
    "        [1, 2, 3],\n",
    "        [4, 5, 6],\n",
    "        [7, 8, 9]\n",
    "    ])\n",
    "\n",
    "    t3 = Tensor([\n",
    "        [1, 2, 3],\n",
    "        [4, 5, 6]\n",
    "    ])\n",
    "\n",
    "    assert t @ t2 == Tensor([\n",
    "        [30, 36, 42],\n",
    "        [66, 81, 96],\n",
    "        [102, 126, 150]\n",
    "    ])\n",
    "\n",
    "    with pytest.raises(ValueError):\n",
    "        t @ t3\n",
    "\n",
    "test_tensor_and_tensor()"
   ]
  },
  {
   "cell_type": "code",
   "execution_count": 13,
   "metadata": {},
   "outputs": [],
   "source": [
    "def test_scalar_and_scalar():\n",
    "    t = Tensor(5)\n",
    "    s = 2\n",
    "    assert t + s == Tensor(7)\n",
    "    assert t - s == Tensor(3)\n",
    "    assert t * s == Tensor(10)\n",
    "    assert t / s == Tensor(2.5)\n",
    "\n",
    "def test_vector_and_scalar():\n",
    "    t = Tensor([1, 2, 3, 4, 5])\n",
    "    s = 2\n",
    "    assert t + s == Tensor([3, 4, 5, 6, 7])\n",
    "    assert t - s == Tensor([-1, 0, 1, 2, 3])\n",
    "    assert t * s == Tensor([2, 4, 6, 8, 10])\n",
    "    assert t / s == Tensor([0.5, 1, 1.5, 2, 2.5])\n",
    "    # assert t @ s == Tensor([2, 4, 6, 8, 10]) # TODO fix matmul\n",
    "    \n",
    "def test_vector_and_vector():\n",
    "    v = Tensor([1, 2, 3, 4, 5])\n",
    "    v2 = Tensor([2, 3, 4, 5, 6])\n",
    "\n",
    "    assert v + v2 == Tensor([3, 5, 7, 9, 11])\n",
    "    assert v - v2 == Tensor([-1, -1, -1, -1, -1])\n",
    "    assert v * v2 == Tensor([2, 6, 12, 20, 30])\n",
    "    assert v / v2 == Tensor([0.5, 2/3, 3/4, 4/5, 5/6])\n",
    "    assert v @ v2 == Tensor(70)\n",
    "\n",
    "def test_vector_and_tensor():\n",
    "    v = Tensor([1, 2, 3])\n",
    "    v2 = Tensor([1, 2, 3, 4])\n",
    "    t = Tensor([\n",
    "        [1, 2, 3],\n",
    "        [4, 5, 6],\n",
    "        [7, 8, 9]\n",
    "    ])\n",
    "\n",
    "    assert v @ t == Tensor([30, 36, 42])\n",
    "\n",
    "    with pytest.raises(ValueError):\n",
    "        v2 @ t\n",
    "\n",
    "def test_tensor_and_tensor():\n",
    "    t = Tensor([\n",
    "        [1, 2, 3],\n",
    "        [4, 5, 6],\n",
    "        [7, 8, 9]\n",
    "    ])\n",
    "\n",
    "    t2 = Tensor([\n",
    "        [1, 2, 3],\n",
    "        [4, 5, 6],\n",
    "        [7, 8, 9]\n",
    "    ])\n",
    "\n",
    "    t3 = Tensor([\n",
    "        [1, 2, 3],\n",
    "        [4, 5, 6]\n",
    "    ])\n",
    "\n",
    "    assert t @ t2 == Tensor([\n",
    "        [30, 36, 42],\n",
    "        [66, 81, 96],\n",
    "        [102, 126, 150]\n",
    "    ])\n",
    "\n",
    "    with pytest.raises(ValueError):\n",
    "        t @ t3"
   ]
  },
  {
   "cell_type": "code",
   "execution_count": 14,
   "metadata": {},
   "outputs": [],
   "source": [
    "def test_all_basic_methods():\n",
    "    test_scalar_and_scalar()\n",
    "    test_vector_and_scalar()\n",
    "    test_vector_and_vector()\n",
    "    test_vector_and_tensor()\n",
    "    test_tensor_and_tensor()"
   ]
  }
 ],
 "metadata": {
  "kernelspec": {
   "display_name": "venv",
   "language": "python",
   "name": "python3"
  },
  "language_info": {
   "codemirror_mode": {
    "name": "ipython",
    "version": 3
   },
   "file_extension": ".py",
   "mimetype": "text/x-python",
   "name": "python",
   "nbconvert_exporter": "python",
   "pygments_lexer": "ipython3",
   "version": "3.10.0"
  },
  "orig_nbformat": 4
 },
 "nbformat": 4,
 "nbformat_minor": 2
}
