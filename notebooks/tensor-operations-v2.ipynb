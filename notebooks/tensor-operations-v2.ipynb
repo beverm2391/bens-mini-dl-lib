{
 "cells": [
  {
   "cell_type": "code",
   "execution_count": 1,
   "metadata": {},
   "outputs": [],
   "source": [
    "from lib.Tensor import Tensor"
   ]
  },
  {
   "cell_type": "code",
   "execution_count": 2,
   "metadata": {},
   "outputs": [],
   "source": [
    "t = Tensor([1, 2, 3, 4, 5])\n",
    "s = 2\n",
    "st = Tensor(s)"
   ]
  },
  {
   "cell_type": "code",
   "execution_count": 4,
   "metadata": {},
   "outputs": [
    {
     "name": "stdout",
     "output_type": "stream",
     "text": [
      "<class 'lib.Tensor.Tensor'>\n",
      "<class 'lib.Tensor.Tensor'>\n",
      "True\n"
     ]
    }
   ],
   "source": [
    "t1 = t + s\n",
    "t2 = Tensor([3, 4, 5, 6, 7])\n",
    "\n",
    "print(type(t1))\n",
    "print(type(t2))\n",
    "print(t1 == t2)"
   ]
  },
  {
   "cell_type": "code",
   "execution_count": null,
   "metadata": {},
   "outputs": [],
   "source": []
  },
  {
   "cell_type": "code",
   "execution_count": 8,
   "metadata": {},
   "outputs": [],
   "source": [
    "def test_tensor_and_scalar():\n",
    "    t = Tensor([1, 2, 3, 4, 5])\n",
    "    s = 2\n",
    "    assert t + s == Tensor([3, 4, 5, 6, 7])\n",
    "    assert t - s == Tensor([-1, 0, 1, 2, 3])\n",
    "    assert t * s == Tensor([2, 4, 6, 8, 10])\n",
    "    assert t / s == Tensor([0.5, 1, 1.5, 2, 2.5])\n",
    "    # assert t @ s == Tensor([2, 4, 6, 8, 10]) # TODO fix matmul\n",
    "    \n",
    "\n",
    "test_tensor_and_scalar()"
   ]
  },
  {
   "cell_type": "code",
   "execution_count": 10,
   "metadata": {},
   "outputs": [],
   "source": [
    "def test_scalar_and_scalar():\n",
    "    t = Tensor(5)\n",
    "    s = 2\n",
    "    assert t + s == Tensor(7)\n",
    "    assert t - s == Tensor(3)\n",
    "    assert t * s == Tensor(10)\n",
    "    assert t / s == Tensor(2.5)\n",
    "\n",
    "test_scalar_and_scalar()"
   ]
  },
  {
   "cell_type": "code",
   "execution_count": 17,
   "metadata": {},
   "outputs": [
    {
     "name": "stdout",
     "output_type": "stream",
     "text": [
      "Tensor([[ 30  36  42]\n",
      " [ 66  81  96]\n",
      " [102 126 150]], requires_grad=True)\n"
     ]
    }
   ],
   "source": [
    "def test_tensor_and_tensor():\n",
    "    t = Tensor([1, 2, 3, 4, 5])\n",
    "    s = Tensor([2, 3, 4, 5, 6])\n",
    "\n",
    "    t2 = Tensor([\n",
    "        [1, 2, 3],\n",
    "        [4, 5, 6],\n",
    "        [7, 8, 9]\n",
    "    ])\n",
    "\n",
    "    s2 = Tensor([\n",
    "        [1, 2, 3],\n",
    "        [4, 5, 6],\n",
    "        [7, 8, 9]\n",
    "    ])\n",
    "\n",
    "    assert t + s == Tensor([3, 5, 7, 9, 11])\n",
    "    assert t - s == Tensor([-1, -1, -1, -1, -1])\n",
    "    assert t * s == Tensor([2, 6, 12, 20, 30])\n",
    "    assert t / s == Tensor([0.5, 2/3, 3/4, 4/5, 5/6])\n",
    "    assert t @ s == Tensor(70)\n",
    "\n",
    "    assert t2 @ s2 == Tensor([\n",
    "        [30, 36, 42],\n",
    "        [66, 81, 96],\n",
    "        [102, 126, 150]\n",
    "    ])\n",
    "\n",
    "test_tensor_and_tensor()"
   ]
  }
 ],
 "metadata": {
  "kernelspec": {
   "display_name": "venv",
   "language": "python",
   "name": "python3"
  },
  "language_info": {
   "codemirror_mode": {
    "name": "ipython",
    "version": 3
   },
   "file_extension": ".py",
   "mimetype": "text/x-python",
   "name": "python",
   "nbconvert_exporter": "python",
   "pygments_lexer": "ipython3",
   "version": "3.10.0"
  },
  "orig_nbformat": 4
 },
 "nbformat": 4,
 "nbformat_minor": 2
}
