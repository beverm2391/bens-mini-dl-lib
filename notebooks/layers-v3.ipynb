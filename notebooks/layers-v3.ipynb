{
 "cells": [
  {
   "cell_type": "code",
   "execution_count": 1,
   "metadata": {},
   "outputs": [],
   "source": [
    "import numpy as np\n",
    "from typing import List\n",
    "from matplotlib import pyplot as plt\n",
    "\n",
    "from lib.Layers import Layer\n",
    "from lib.Tensor import Tensor"
   ]
  },
  {
   "cell_type": "code",
   "execution_count": 2,
   "metadata": {},
   "outputs": [],
   "source": [
    "class Dense(Layer):\n",
    "    def __init__(self, input_dim: int, output_dim: int, lr: float = 0.01):\n",
    "        self.weights = self.init_weights(input_dim, output_dim) # weights is a matrix of shape (input_dim, output_dim)\n",
    "        self.bias = self.init_bias(output_dim) # bias is a matrix of shape (1, output_dim)\n",
    "        self.lr = lr # learning rate\n",
    "        self.input = None # save input for backward pass\n",
    "    \n",
    "    # initialize weights and bias\n",
    "    def init_weights(self, input_dim: int, output_dim: int) -> 'Tensor':\n",
    "        arr = np.random.randn(input_dim, output_dim) * 0.01 # initialize weights with small random numbers\n",
    "        return Tensor(arr, requires_grad=True) # convert to Tensor\n",
    "    \n",
    "    def init_bias(self, output_dim: int) -> 'Tensor':\n",
    "        arr = np.zeros((1, output_dim)) # initialize bias with zeros of shape (1, output_dim)\n",
    "        return Tensor(arr, requires_grad=True) # convert to Tensor\n",
    "    \n",
    "    def parameters(self) -> List['Tensor']:\n",
    "        return [self.weights, self.bias]\n",
    "    \n",
    "    # forward pass\n",
    "    def forward(self, input_data: 'Tensor') -> 'Tensor':\n",
    "        \"\"\"\n",
    "        Take an input tensor, multiply it with the weights and add the bias.\n",
    "        \n",
    "        X is a matrix of shape (batch_size, input_dim)\n",
    "        W is a matrix of shape (input_dim, output_dim)\n",
    "        b is a matrix of shape (1, output_dim)\n",
    "\n",
    "        output = X @ W + b, matrix of shape (batch_size, output_dim)\n",
    "        \"\"\"\n",
    "        input_features = input_data.shape[1] # input_dim\n",
    "        if input_features != self.weights.shape[0]:\n",
    "            raise RuntimeError(f\"Input tensor with {input_features} features should match layer input dim {self.weights.shape[0]}\")\n",
    "\n",
    "        self.input = input_data # save input for backward pass\n",
    "        #? not sure if i need to handle the case where batch_size = 1, and input_data is a vector\n",
    "        self.output = input_data @ self.weights + self.bias # matrix multiplication\n",
    "        return self.output\n",
    "    \n",
    "    # backward pass\n",
    "    def backward(self) -> None:\n",
    "        \"\"\"\n",
    "        Compute and store gradients for weights and biases based on the output_gradient\n",
    "        coming from the next layer. Then, compute the gradient for the inputs to be\n",
    "        sent to the previous layer.\n",
    "\n",
    "        output_gradient is a tensor of shape (batch_size, output_dim)\n",
    "        \"\"\"\n",
    "\n",
    "        if self.output.grad is None:\n",
    "            raise RuntimeError(\"No gradient found. You might need to call backward on the loss Tensor first.\")\n",
    "        \n",
    "        # compute gradient for weights"
   ]
  },
  {
   "cell_type": "code",
   "execution_count": 3,
   "metadata": {},
   "outputs": [],
   "source": [
    "class Optimizer:\n",
    "    \"\"\"\n",
    "    Base class for all optimizers.\n",
    "    \"\"\"\n",
    "    def __init__(self):\n",
    "        self.lr = None\n",
    "\n",
    "    def step(self):\n",
    "        raise NotImplementedError\n",
    "    \n",
    "    def zero_grad(self):\n",
    "        raise NotImplementedError\n",
    "    \n",
    "class SGD(Optimizer):\n",
    "    \"\"\"\n",
    "    Stochastic gradient descent optimizer.\n",
    "    \"\"\"\n",
    "    def __init__(self, params: List['Tensor'], lr):\n",
    "        self.lr = lr\n",
    "        self.params = params\n",
    "    \n",
    "    def step(self):\n",
    "        for param in self.params:\n",
    "            if param.requires_grad:\n",
    "                param.data = param.data - self.lr * param.grad\n",
    "                # param.data -= self.lr * param.grad\n",
    "                param.zero_grad()\n",
    "\n",
    "    def zero_grad(self):\n",
    "        for param in self.params:\n",
    "            if param.requires_grad:\n",
    "                param.zero_grad()"
   ]
  },
  {
   "cell_type": "code",
   "execution_count": 4,
   "metadata": {},
   "outputs": [
    {
     "data": {
      "image/png": "[encoded data removed]",
      "text/plain": [
       "<Figure size 640x480 with 1 Axes>"
      ]
     },
     "metadata": {},
     "output_type": "display_data"
    }
   ],
   "source": [
    "n_samples = 100\n",
    "\n",
    "x = np.linspace(-10, 10, n_samples) # 100 samples between -10 and 10\n",
    "\n",
    "# generate y = 2x + 1\n",
    "y = 2 * x + 1\n",
    "# add noise\n",
    "y += np.random.normal(0, 5, n_samples)\n",
    "\n",
    "# reshape x and y to be column vectors\n",
    "x = x.reshape(-1, 1)\n",
    "y = y.reshape(-1, 1)\n",
    "\n",
    "plt.scatter(x, y)\n",
    "plt.xlabel(\"x\")\n",
    "plt.ylabel(\"y\")\n",
    "plt.title('Synthetic Linearly Correlated Data')\n",
    "plt.show()"
   ]
  },
  {
   "cell_type": "code",
   "execution_count": 5,
   "metadata": {},
   "outputs": [
    {
     "name": "stdout",
     "output_type": "stream",
     "text": [
      "Epoch 0, Loss: 18554.215877908195\n",
      "Epoch 100, Loss: nan\n",
      "Epoch 200, Loss: nan\n",
      "Epoch 300, Loss: nan\n",
      "Epoch 400, Loss: nan\n",
      "Epoch 500, Loss: nan\n",
      "Epoch 600, Loss: nan\n",
      "Epoch 700, Loss: nan\n",
      "Epoch 800, Loss: nan\n",
      "Epoch 900, Loss: nan\n"
     ]
    },
    {
     "name": "stderr",
     "output_type": "stream",
     "text": [
      "/Users/beneverman/Documents/Coding/bens-mini-dl/lib/Tensor.py:239: RuntimeWarning: overflow encountered in power\n",
      "  grad_wrt_x = self.grad * n * (self.data ** (n - 1))\n",
      "/Users/beneverman/Documents/Coding/bens-mini-dl/lib/Tensor.py:239: RuntimeWarning: invalid value encountered in multiply\n",
      "  grad_wrt_x = self.grad * n * (self.data ** (n - 1))\n"
     ]
    }
   ],
   "source": [
    "layer = Dense(1, 1)\n",
    "optimizer = SGD([layer.weights, layer.bias], lr=0.01)\n",
    "\n",
    "for epoch in range(1000):\n",
    "    # forward\n",
    "    input_data = Tensor(x, requires_grad=True)\n",
    "    out = layer(input_data)\n",
    "\n",
    "    # calculate loss\n",
    "    loss = ((out - y) ** 2).sum()\n",
    "\n",
    "    # backward\n",
    "    loss.backward()\n",
    "\n",
    "    # update weights and bias\n",
    "    optimizer.step()\n",
    "\n",
    "    # Optionally print loss\n",
    "    if epoch % 100 == 0:\n",
    "        print(f\"Epoch {epoch}, Loss: {loss.data:0.4f}\")"
   ]
  }
 ],
 "metadata": {
  "kernelspec": {
   "display_name": "venv",
   "language": "python",
   "name": "python3"
  },
  "language_info": {
   "codemirror_mode": {
    "name": "ipython",
    "version": 3
   },
   "file_extension": ".py",
   "mimetype": "text/x-python",
   "name": "python",
   "nbconvert_exporter": "python",
   "pygments_lexer": "ipython3",
   "version": "3.10.0"
  },
  "orig_nbformat": 4
 },
 "nbformat": 4,
 "nbformat_minor": 2
}
