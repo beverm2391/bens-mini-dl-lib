{
 "cells": [
  {
   "cell_type": "code",
   "execution_count": 1,
   "metadata": {},
   "outputs": [],
   "source": [
    "import numpy as np\n",
    "from lib.Tensor import Tensor\n",
    "from lib.NN import CategoricalCrossEntropyLoss"
   ]
  },
  {
   "cell_type": "code",
   "execution_count": 5,
   "metadata": {},
   "outputs": [],
   "source": [
    "x_data = np.array([[0.1, 0.6, 0.3], [0.8, 0.1, 0.1], [0.3, 0.1, 0.6], [0.2, 0.2, 0.6]]) # prob distributions\n",
    "y_data = np.array([1, 0, 2, 2])\n",
    "\n",
    "x = Tensor(x_data, requires_grad=True)\n",
    "y = Tensor(y_data, requires_grad=False)\n",
    "\n",
    "# some random operations\n",
    "x = x + 1\n",
    "x = x * 2\n",
    "x = x - 1\n",
    "\n",
    "criterion = CategoricalCrossEntropyLoss()\n",
    "loss = criterion(x, y)\n",
    "loss.backward()"
   ]
  }
 ],
 "metadata": {
  "kernelspec": {
   "display_name": "venv",
   "language": "python",
   "name": "python3"
  },
  "language_info": {
   "codemirror_mode": {
    "name": "ipython",
    "version": 3
   },
   "file_extension": ".py",
   "mimetype": "text/x-python",
   "name": "python",
   "nbconvert_exporter": "python",
   "pygments_lexer": "ipython3",
   "version": "3.10.0"
  }
 },
 "nbformat": 4,
 "nbformat_minor": 2
}
