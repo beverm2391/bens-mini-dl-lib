{
 "cells": [
  {
   "cell_type": "code",
   "execution_count": 3,
   "metadata": {},
   "outputs": [],
   "source": [
    "import numpy as np\n",
    "from functools import wraps"
   ]
  },
  {
   "cell_type": "code",
   "execution_count": null,
   "metadata": {},
   "outputs": [],
   "source": [
    "def check_shape(func):\n",
    "    @wraps(func)\n",
    "    def wrapper(y_hat, y, *args, **kwargs):\n",
    "        if y_hat.shape != y.shape:\n",
    "            raise ValueError(f\"Shape of y_hat {y_hat.shape} does not match shape of y {y.shape}\")\n",
    "        return func(y_hat, y, *args, **kwargs)\n",
    "    return wrapper"
   ]
  },
  {
   "cell_type": "code",
   "execution_count": 4,
   "metadata": {},
   "outputs": [],
   "source": [
    "class Loss:\n",
    "    def check_shape(self, y_hat, y):\n",
    "        if y_hat.shape != y.shape:\n",
    "            raise ValueError(f\"Shape mismatch: y_hat has shape {y_hat.shape} but y has shape {y.shape}\")\n",
    "\n",
    "    def forward(self, y_hat, y):\n",
    "        raise NotImplementedError(\"The forward method is not implemented.\")\n",
    "    \n",
    "    def backward(self, y_hat, y):\n",
    "        raise NotImplementedError(\"The backward method is not implemented.\")\n",
    "    \n",
    "    def __call__(self, y_hat, y, *args, **kwargs):\n",
    "        return self.forward(y_hat, y, *args, **kwargs)\n",
    "\n",
    "class MSE(Loss):\n",
    "    def forward(self, y_hat, y):\n",
    "        self.check_shape(y_hat, y)\n",
    "        self.y_hat = y_hat  # store for backward pass\n",
    "        self.y = y  # store for backward pass\n",
    "        return ((y_hat - y) ** 2).mean()\n",
    "    \n",
    "    def backward(self):\n",
    "        # derivative of MSE w.r.t y_hat\n",
    "        return 2 * (self.y_hat - self.y) / self.y.size\n",
    "\n",
    "class MAE(Loss):\n",
    "    def forward(self, y_hat, y):\n",
    "        self.check_shape(y_hat, y)\n",
    "        self.y_hat = y_hat  # store for backward pass\n",
    "        self.y = y  # store for backward pass\n",
    "        return (abs(y_hat - y)).mean()\n",
    "    \n",
    "    def backward(self):\n",
    "        # derivative of MAE w.r.t y_hat\n",
    "        return np.sign(self.y_hat - self.y) / self.y.size"
   ]
  }
 ],
 "metadata": {
  "kernelspec": {
   "display_name": "venv",
   "language": "python",
   "name": "python3"
  },
  "language_info": {
   "codemirror_mode": {
    "name": "ipython",
    "version": 3
   },
   "file_extension": ".py",
   "mimetype": "text/x-python",
   "name": "python",
   "nbconvert_exporter": "python",
   "pygments_lexer": "ipython3",
   "version": "3.10.0"
  },
  "orig_nbformat": 4
 },
 "nbformat": 4,
 "nbformat_minor": 2
}
