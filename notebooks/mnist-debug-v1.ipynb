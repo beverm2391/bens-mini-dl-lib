{
 "cells": [
  {
   "cell_type": "code",
   "execution_count": 1,
   "metadata": {},
   "outputs": [],
   "source": [
    "import numpy as np\n",
    "\n",
    "from lib.Tensor import Tensor\n",
    "from lib.NN import ReLU, Dense, Module, CategoricalCrossEntropyLoss\n",
    "from lib.Optimizers import SGD\n",
    "from lib.data_utils import get_mnist"
   ]
  },
  {
   "cell_type": "code",
   "execution_count": 2,
   "metadata": {},
   "outputs": [],
   "source": [
    "path = \"/Users/beneverman/Documents/Coding/bens-mini-dl/data\"\n",
    "x_train, y_train, x_valid, y_valid = get_mnist(path)"
   ]
  },
  {
   "cell_type": "code",
   "execution_count": 3,
   "metadata": {},
   "outputs": [],
   "source": [
    "input_dim = x_train.shape[1] # number of features (pixels)\n",
    "output_dim = len(set(y_train)) # all unique class labels\n",
    "\n",
    "x_train_tensor, y_train_tensor = Tensor(x_train, requires_grad=False), Tensor(y_train, requires_grad=False)\n",
    "x_valid_tensor, y_valid_tensor = Tensor(x_valid, requires_grad=False), Tensor(y_valid, requires_grad=False)"
   ]
  },
  {
   "cell_type": "code",
   "execution_count": 4,
   "metadata": {},
   "outputs": [],
   "source": [
    "class MLP(Module):\n",
    "    def __init__(self, input_dim: int, output_dim: int):\n",
    "        super().__init__()\n",
    "        self.fc1 = Dense(input_dim, 64)\n",
    "        self.relu1 = ReLU()\n",
    "        self.fc2 = Dense(64, output_dim)\n",
    "\n",
    "    def forward(self, x):   \n",
    "        x = self.fc1(x)\n",
    "        x = self.relu1(x)\n",
    "        x = self.fc2(x)\n",
    "        return x\n",
    "\n",
    "model = MLP(input_dim, output_dim)\n",
    "criterion = CategoricalCrossEntropyLoss()\n",
    "optimizer = SGD(model.parameters(), lr=0.001)\n",
    "\n",
    "model.train()\n",
    "optimizer.zero_grad()\n",
    "\n",
    "samp = np.random.randint(0, len(x_train), 64) # get random indices\n",
    "batch, labels = x_train_tensor[samp], y_train_tensor[samp]\n",
    "\n",
    "out = model(batch)\n",
    "loss = criterion(out, labels)"
   ]
  },
  {
   "cell_type": "code",
   "execution_count": 5,
   "metadata": {},
   "outputs": [
    {
     "name": "stdout",
     "output_type": "stream",
     "text": [
      "Creation_op mul, shape :(), requires_grad: True \n",
      "Creation_op , shape :(), requires_grad: True \n",
      "Creation_op mean, shape :(), requires_grad: True \n",
      "Creation_op getitem, shape :(64,), requires_grad: True \n",
      "Creation_op add, shape :(64, 10), requires_grad: True \n",
      "Creation_op mul, shape :(64, 1), requires_grad: True \n",
      "Creation_op , shape :(), requires_grad: True \n",
      "Creation_op log, shape :(64, 1), requires_grad: True \n",
      "Creation_op sum, shape :(64, 1), requires_grad: True \n",
      "Creation_op exp, shape :(64, 10), requires_grad: True \n",
      "Creation_op add, shape :(64, 10), requires_grad: True \n",
      "Creation_op mul, shape :(64, 1), requires_grad: True \n",
      "Creation_op , shape :(), requires_grad: True \n",
      "Creation_op max, shape :(64, 1), requires_grad: True \n",
      "Creation_op add, shape :(64, 10), requires_grad: True \n",
      "Creation_op , shape :(10,), requires_grad: True \n",
      "Creation_op matmul, shape :(64, 10), requires_grad: True \n",
      "Creation_op transpose, shape :(64, 10), requires_grad: True \n",
      "Creation_op mul, shape :(10, 64), requires_grad: True \n",
      "Creation_op , shape :(), requires_grad: True \n",
      "Creation_op , shape :(10, 64), requires_grad: True \n",
      "Creation_op ReLU, shape :(64, 64), requires_grad: True \n",
      "Creation_op add, shape :(64, 64), requires_grad: True \n",
      "Creation_op , shape :(64,), requires_grad: True \n",
      "Creation_op matmul, shape :(64, 64), requires_grad: True \n",
      "Creation_op transpose, shape :(784, 64), requires_grad: True \n",
      "Creation_op mul, shape :(64, 784), requires_grad: True \n",
      "Creation_op , shape :(), requires_grad: True \n",
      "Creation_op , shape :(64, 784), requires_grad: True \n",
      "Creation_op getitem, shape :(64, 784), requires_grad: False \n",
      "self.grad type <class 'numpy.ndarray'>\n",
      "out.grad type <class 'NoneType'>\n",
      "Creation_op , shape :(50000, 784), requires_grad: False \n"
     ]
    }
   ],
   "source": [
    "loss.backward()"
   ]
  },
  {
   "cell_type": "code",
   "execution_count": null,
   "metadata": {},
   "outputs": [],
   "source": []
  },
  {
   "cell_type": "markdown",
   "metadata": {},
   "source": [
    "## Without grad\n",
    "\n",
    "``\n",
    "Creation_op matmul, shape (64, 64)\n",
    "```\n",
    "\n",
    "## With grad\n",
    "\n",
    "```\n",
    "Creation_op matmul, shape (64, 64) \n",
    "...\n",
    "Creation_op transpose, shape (784, 64)\n",
    "Creation_op mul, shape (64, 784)\n",
    "Creation_op , shape ()\n",
    "Creation_op , shape (64, 784)\n",
    "Creation_op getitem, shape (64, 784)\n",
    "Creation_op , shape (50000, 784)\n",
    "```"
   ]
  },
  {
   "cell_type": "code",
   "execution_count": 6,
   "metadata": {},
   "outputs": [],
   "source": [
    "t = Tensor(np.array([[1, 2, 3], [4, 5, 6]]))\n",
    "test_layer = Dense(3, 2)\n",
    "out = test_layer(t).sum()"
   ]
  },
  {
   "cell_type": "code",
   "execution_count": 7,
   "metadata": {},
   "outputs": [
    {
     "name": "stdout",
     "output_type": "stream",
     "text": [
      "Creation_op sum, shape :(), requires_grad: True \n",
      "Creation_op add, shape :(2, 2), requires_grad: True \n",
      "Creation_op , shape :(2,), requires_grad: True \n",
      "Creation_op matmul, shape :(2, 2), requires_grad: True \n",
      "Creation_op transpose, shape :(3, 2), requires_grad: True \n",
      "Creation_op mul, shape :(2, 3), requires_grad: True \n",
      "Creation_op , shape :(), requires_grad: True \n",
      "Creation_op , shape :(2, 3), requires_grad: True \n",
      "Creation_op , shape :(2, 3), requires_grad: False \n"
     ]
    }
   ],
   "source": [
    "out.backward()"
   ]
  }
 ],
 "metadata": {
  "kernelspec": {
   "display_name": "venv",
   "language": "python",
   "name": "python3"
  },
  "language_info": {
   "codemirror_mode": {
    "name": "ipython",
    "version": 3
   },
   "file_extension": ".py",
   "mimetype": "text/x-python",
   "name": "python",
   "nbconvert_exporter": "python",
   "pygments_lexer": "ipython3",
   "version": "3.10.0"
  }
 },
 "nbformat": 4,
 "nbformat_minor": 2
}
