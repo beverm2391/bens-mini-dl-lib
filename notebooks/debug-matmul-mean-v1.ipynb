{
 "cells": [
  {
   "cell_type": "code",
   "execution_count": 1,
   "metadata": {},
   "outputs": [],
   "source": [
    "from lib.Tensor import Tensor\n",
    "from lib.NN import MLP, ReLU, Loss\n",
    "from lib.Optimizers import SGD"
   ]
  },
  {
   "cell_type": "code",
   "execution_count": 2,
   "metadata": {},
   "outputs": [],
   "source": [
    "class MSELoss(Loss):\n",
    "    def forward(self, x: Tensor, y: Tensor) -> Tensor:\n",
    "        self.input = (x, y)\n",
    "        diff = x - y\n",
    "        mse = (diff * diff).mean()\n",
    "        return mse"
   ]
  },
  {
   "cell_type": "code",
   "execution_count": 3,
   "metadata": {},
   "outputs": [],
   "source": [
    "model = MLP([2, 10, 2], ReLU)\n",
    "criterion = MSELoss()\n",
    "optimizer = SGD(model.parameters(), lr=0.001)\n",
    "\n",
    "t1 = Tensor.randn(800, 2, requires_grad=True)\n",
    "t2 = Tensor.randn(800, 2, requires_grad=True)"
   ]
  },
  {
   "cell_type": "code",
   "execution_count": 4,
   "metadata": {},
   "outputs": [
    {
     "name": "stdout",
     "output_type": "stream",
     "text": [
      "Creation_op mean, shape ()\n",
      "Creation_op add, shape (800, 2)\n"
     ]
    },
    {
     "ename": "ValueError",
     "evalue": "cannot reshape array of size 1600 into shape (2,)",
     "output_type": "error",
     "traceback": [
      "\u001b[0;31m---------------------------------------------------------------------------\u001b[0m",
      "\u001b[0;31mValueError\u001b[0m                                Traceback (most recent call last)",
      "\u001b[1;32m/Users/beneverman/Documents/Coding/bens-mini-dl/notebooks/debug-matmul-mean-v1.ipynb Cell 4\u001b[0m line \u001b[0;36m5\n\u001b[1;32m      <a href='vscode-notebook-cell:/Users/beneverman/Documents/Coding/bens-mini-dl/notebooks/debug-matmul-mean-v1.ipynb#W3sZmlsZQ%3D%3D?line=1'>2</a>\u001b[0m loss \u001b[39m=\u001b[39m pred\u001b[39m.\u001b[39mmean()\n\u001b[1;32m      <a href='vscode-notebook-cell:/Users/beneverman/Documents/Coding/bens-mini-dl/notebooks/debug-matmul-mean-v1.ipynb#W3sZmlsZQ%3D%3D?line=2'>3</a>\u001b[0m \u001b[39m# loss = t1.mean()\u001b[39;00m\n\u001b[1;32m      <a href='vscode-notebook-cell:/Users/beneverman/Documents/Coding/bens-mini-dl/notebooks/debug-matmul-mean-v1.ipynb#W3sZmlsZQ%3D%3D?line=3'>4</a>\u001b[0m \u001b[39m# loss = criterion(pred, t2)\u001b[39;00m\n\u001b[0;32m----> <a href='vscode-notebook-cell:/Users/beneverman/Documents/Coding/bens-mini-dl/notebooks/debug-matmul-mean-v1.ipynb#W3sZmlsZQ%3D%3D?line=4'>5</a>\u001b[0m loss\u001b[39m.\u001b[39;49mbackward()\n",
      "File \u001b[0;32m~/Documents/Coding/bens-mini-dl/lib/Tensor.py:101\u001b[0m, in \u001b[0;36mTensor.backward\u001b[0;34m(self)\u001b[0m\n\u001b[1;32m     99\u001b[0m \u001b[39mprint\u001b[39m(\u001b[39mf\u001b[39m\u001b[39m\"\u001b[39m\u001b[39mCreation_op \u001b[39m\u001b[39m{\u001b[39;00mv\u001b[39m.\u001b[39m_op\u001b[39m}\u001b[39;00m\u001b[39m, shape \u001b[39m\u001b[39m{\u001b[39;00mv\u001b[39m.\u001b[39mdata\u001b[39m.\u001b[39mshape\u001b[39m}\u001b[39;00m\u001b[39m\"\u001b[39m)\n\u001b[1;32m    100\u001b[0m \u001b[39m# ? DEBUG ------------------------------------------------------------\u001b[39;00m\n\u001b[0;32m--> 101\u001b[0m v\u001b[39m.\u001b[39;49m_backward()\n",
      "File \u001b[0;32m~/Documents/Coding/bens-mini-dl/lib/Tensor.py:128\u001b[0m, in \u001b[0;36mTensor.__add__.<locals>._backward\u001b[0;34m()\u001b[0m\n\u001b[1;32m    126\u001b[0m     other\u001b[39m.\u001b[39mgrad \u001b[39m+\u001b[39m\u001b[39m=\u001b[39m np\u001b[39m.\u001b[39msum(out\u001b[39m.\u001b[39mgrad) \u001b[39m# must sum to add correctly (if other.data is a scalar)\u001b[39;00m\n\u001b[1;32m    127\u001b[0m \u001b[39melse\u001b[39;00m:\n\u001b[0;32m--> 128\u001b[0m     other\u001b[39m.\u001b[39mgrad \u001b[39m+\u001b[39m\u001b[39m=\u001b[39m out\u001b[39m.\u001b[39;49mgrad\u001b[39m.\u001b[39;49mreshape(other\u001b[39m.\u001b[39;49mdata\u001b[39m.\u001b[39;49mshape)\n",
      "\u001b[0;31mValueError\u001b[0m: cannot reshape array of size 1600 into shape (2,)"
     ]
    }
   ],
   "source": [
    "pred = model(t1)\n",
    "loss = pred.mean()\n",
    "# loss = t1.mean()\n",
    "# loss = criterion(pred, t2)\n",
    "loss.backward()"
   ]
  },
  {
   "cell_type": "code",
   "execution_count": 19,
   "metadata": {},
   "outputs": [
    {
     "ename": "ValueError",
     "evalue": "cannot reshape array of size 1600 into shape (2,)",
     "output_type": "error",
     "traceback": [
      "\u001b[0;31m---------------------------------------------------------------------------\u001b[0m",
      "\u001b[0;31mValueError\u001b[0m                                Traceback (most recent call last)",
      "\u001b[1;32m/Users/beneverman/Documents/Coding/bens-mini-dl/notebooks/debug-matmul-mean-v1.ipynb Cell 5\u001b[0m line \u001b[0;36m4\n\u001b[1;32m      <a href='vscode-notebook-cell:/Users/beneverman/Documents/Coding/bens-mini-dl/notebooks/debug-matmul-mean-v1.ipynb#W4sZmlsZQ%3D%3D?line=0'>1</a>\u001b[0m t1 \u001b[39m=\u001b[39m Tensor\u001b[39m.\u001b[39mrandn(\u001b[39m800\u001b[39m, \u001b[39m2\u001b[39m)\n\u001b[1;32m      <a href='vscode-notebook-cell:/Users/beneverman/Documents/Coding/bens-mini-dl/notebooks/debug-matmul-mean-v1.ipynb#W4sZmlsZQ%3D%3D?line=1'>2</a>\u001b[0m t3 \u001b[39m=\u001b[39m Tensor([\u001b[39m1\u001b[39m, \u001b[39m2\u001b[39m])\n\u001b[0;32m----> <a href='vscode-notebook-cell:/Users/beneverman/Documents/Coding/bens-mini-dl/notebooks/debug-matmul-mean-v1.ipynb#W4sZmlsZQ%3D%3D?line=3'>4</a>\u001b[0m t1\u001b[39m.\u001b[39;49mdata\u001b[39m.\u001b[39;49mreshape(t3\u001b[39m.\u001b[39;49mshape)\n",
      "\u001b[0;31mValueError\u001b[0m: cannot reshape array of size 1600 into shape (2,)"
     ]
    }
   ],
   "source": [
    "t1 = Tensor.randn(800, 2)\n",
    "t3 = Tensor([1, 2])\n",
    "\n",
    "t1.data.reshape(t3.shape)"
   ]
  },
  {
   "cell_type": "code",
   "execution_count": 17,
   "metadata": {},
   "outputs": [
    {
     "ename": "ValueError",
     "evalue": "cannot reshape array of size 1600 into shape (2,)",
     "output_type": "error",
     "traceback": [
      "\u001b[0;31m---------------------------------------------------------------------------\u001b[0m",
      "\u001b[0;31mValueError\u001b[0m                                Traceback (most recent call last)",
      "\u001b[1;32m/Users/beneverman/Documents/Coding/bens-mini-dl/notebooks/debug-matmul-mean-v1.ipynb Cell 6\u001b[0m line \u001b[0;36m1\n\u001b[0;32m----> <a href='vscode-notebook-cell:/Users/beneverman/Documents/Coding/bens-mini-dl/notebooks/debug-matmul-mean-v1.ipynb#W5sZmlsZQ%3D%3D?line=0'>1</a>\u001b[0m t1\u001b[39m.\u001b[39;49mdata\u001b[39m.\u001b[39;49mreshape(t3\u001b[39m.\u001b[39;49mshape)\n",
      "\u001b[0;31mValueError\u001b[0m: cannot reshape array of size 1600 into shape (2,)"
     ]
    }
   ],
   "source": []
  }
 ],
 "metadata": {
  "kernelspec": {
   "display_name": "venv",
   "language": "python",
   "name": "python3"
  },
  "language_info": {
   "codemirror_mode": {
    "name": "ipython",
    "version": 3
   },
   "file_extension": ".py",
   "mimetype": "text/x-python",
   "name": "python",
   "nbconvert_exporter": "python",
   "pygments_lexer": "ipython3",
   "version": "3.10.0"
  },
  "orig_nbformat": 4
 },
 "nbformat": 4,
 "nbformat_minor": 2
}
