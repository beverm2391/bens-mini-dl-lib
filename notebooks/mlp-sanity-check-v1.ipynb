{
 "cells": [
  {
   "cell_type": "code",
   "execution_count": 1,
   "metadata": {},
   "outputs": [],
   "source": [
    "import numpy as np\n",
    "from typing import List\n",
    "import torch\n",
    "\n",
    "from lib.Tensor import Tensor, force_tensor_method\n",
    "from lib.NN import Dense, ReLU, Module"
   ]
  },
  {
   "cell_type": "code",
   "execution_count": 2,
   "metadata": {},
   "outputs": [],
   "source": [
    "class MLP(Module):\n",
    "    def __init__(self, layer_dims: List[int], activation_fn=ReLU) -> None:\n",
    "        super().__init__()\n",
    "\n",
    "        for i in range(len(layer_dims) - 1):\n",
    "            self.add_module(f\"dense_{i}\", Dense(layer_dims[i], layer_dims[i+1]))\n",
    "            if i < len(layer_dims) - 2:\n",
    "                self.add_module(f\"activation_{i}\", activation_fn())\n",
    "\n",
    "    @force_tensor_method\n",
    "    def forward(self, x: Tensor) -> Tensor:\n",
    "        for name, module in self._modules.items():\n",
    "            x = module(x)\n",
    "        return x"
   ]
  },
  {
   "cell_type": "code",
   "execution_count": 3,
   "metadata": {},
   "outputs": [
    {
     "data": {
      "text/plain": [
       "Tensor([[-9.48008600e-06]\n",
       " [-6.44903064e-06]\n",
       " [-1.06699067e-07]\n",
       " [-2.05223748e-06]\n",
       " [-1.12727728e-06]\n",
       " [-5.42491098e-06]\n",
       " [-4.97322266e-06]\n",
       " [-2.34052912e-06]\n",
       " [-9.24606180e-07]\n",
       " [-2.70473034e-08]], requires_grad=True)"
      ]
     },
     "execution_count": 3,
     "metadata": {},
     "output_type": "execute_result"
    }
   ],
   "source": [
    "layer_dims = [2, 4, 4, 1]\n",
    "model = MLP(layer_dims)\n",
    "input = Tensor(np.random.randn(10, 2), requires_grad=True)\n",
    "\n",
    "output = model(input)\n",
    "output"
   ]
  },
  {
   "cell_type": "code",
   "execution_count": 4,
   "metadata": {},
   "outputs": [
    {
     "data": {
      "text/plain": [
       "['dense_0', 'activation_0', 'dense_1', 'activation_1', 'dense_2']"
      ]
     },
     "execution_count": 4,
     "metadata": {},
     "output_type": "execute_result"
    }
   ],
   "source": [
    "model.list_modules()"
   ]
  },
  {
   "cell_type": "code",
   "execution_count": 5,
   "metadata": {},
   "outputs": [
    {
     "data": {
      "text/plain": [
       "[Tensor([[ 0.0022283  -0.0096725  -0.00256884 -0.0070397 ]\n",
       "  [ 0.00852427  0.01372309  0.0135955   0.00093445]\n",
       "  [-0.00859275  0.01060837  0.01039665  0.00204073]\n",
       "  [-0.00146119  0.0084003  -0.01015021 -0.01345416]], requires_grad=True),\n",
       " Tensor([0. 0. 0. 0.], requires_grad=True)]"
      ]
     },
     "execution_count": 5,
     "metadata": {},
     "output_type": "execute_result"
    }
   ],
   "source": [
    "model.get_module(\"dense_1\").parameters()"
   ]
  },
  {
   "cell_type": "code",
   "execution_count": 6,
   "metadata": {},
   "outputs": [
    {
     "name": "stdout",
     "output_type": "stream",
     "text": [
      "My output: [[ 0.00034548 -0.0004273 ]\n",
      " [ 0.00012918 -0.00039618]]\n",
      "PyTorch output: tensor([[ 0.0003, -0.0004],\n",
      "        [ 0.0001, -0.0004]])\n"
     ]
    }
   ],
   "source": [
    "input_dim = 5\n",
    "hidden_dim = 10\n",
    "output_dim = 2\n",
    "batch_size = 32\n",
    "\n",
    "layer_dims = [input_dim, hidden_dim, output_dim]\n",
    "\n",
    "# Create your custom MLP and PyTorch MLP\n",
    "mlp = MLP(layer_dims, activation_fn=ReLU)\n",
    "pt_mlp = torch.nn.Sequential(\n",
    "    torch.nn.Linear(input_dim, hidden_dim),\n",
    "    torch.nn.ReLU(),\n",
    "    torch.nn.Linear(hidden_dim, output_dim)\n",
    ")\n",
    "\n",
    "with torch.no_grad():\n",
    "    my_dense_0_params = mlp.get_module(\"dense_0\").parameters()\n",
    "    pt_mlp[0].weight.copy_(torch.tensor(my_dense_0_params[0].data))\n",
    "    pt_mlp[0].bias.copy_(torch.tensor(my_dense_0_params[1].data))\n",
    "\n",
    "    my_dense_1_params = mlp.get_module(\"dense_1\").parameters()\n",
    "    pt_mlp[2].weight.copy_(torch.tensor(my_dense_1_params[0].data))\n",
    "    pt_mlp[2].bias.copy_(torch.tensor(my_dense_1_params[1].data))\n",
    "\n",
    "    # Create random input tensor\n",
    "    pt_input = torch.randn(batch_size, input_dim)\n",
    "    my_input = Tensor(pt_input.numpy())  # Assuming you have a way to convert numpy arrays to your Tensor class\n",
    "\n",
    "    # Forward pass\n",
    "    pt_output = pt_mlp(pt_input)\n",
    "    my_output = mlp(my_input)\n",
    "\n",
    "    print(f\"My output: {my_output.data[:2]}\")\n",
    "    print(f\"PyTorch output: {pt_output[:2]}\")\n",
    "\n",
    "    assert np.allclose(my_output.data, pt_output.detach().numpy(), atol=1e-6)"
   ]
  },
  {
   "cell_type": "markdown",
   "metadata": {},
   "source": [
    "t"
   ]
  },
  {
   "cell_type": "code",
   "execution_count": 7,
   "metadata": {},
   "outputs": [],
   "source": [
    "def test_mlp():\n",
    "    input_dim = 5\n",
    "    hidden_dim = 10\n",
    "    output_dim = 2\n",
    "    batch_size = 32\n",
    "\n",
    "    layer_dims = [input_dim, hidden_dim, output_dim]\n",
    "\n",
    "    # Create your custom MLP and PyTorch MLP\n",
    "    mlp = MLP(layer_dims, activation_fn=ReLU)\n",
    "    pt_mlp = torch.nn.Sequential(\n",
    "        torch.nn.Linear(input_dim, hidden_dim),\n",
    "        torch.nn.ReLU(),\n",
    "        torch.nn.Linear(hidden_dim, output_dim)\n",
    "    )\n",
    "\n",
    "    with torch.no_grad():\n",
    "        my_dense_0_params = mlp.get_module(\"dense_0\").parameters()\n",
    "        pt_mlp[0].weight.copy_(torch.tensor(my_dense_0_params[0].data))\n",
    "        pt_mlp[0].bias.copy_(torch.tensor(my_dense_0_params[1].data))\n",
    "\n",
    "        my_dense_1_params = mlp.get_module(\"dense_1\").parameters()\n",
    "        pt_mlp[2].weight.copy_(torch.tensor(my_dense_1_params[0].data))\n",
    "        pt_mlp[2].bias.copy_(torch.tensor(my_dense_1_params[1].data))\n",
    "\n",
    "        # Create random input tensor\n",
    "        pt_input = torch.randn(batch_size, input_dim)\n",
    "        my_input = Tensor(pt_input.numpy())  # Assuming you have a way to convert numpy arrays to your Tensor class\n",
    "\n",
    "        # Forward pass\n",
    "        pt_output = pt_mlp(pt_input)\n",
    "        my_output = mlp(my_input)\n",
    "\n",
    "        # print(f\"My output: {my_output.data[:2]}\")\n",
    "        # print(f\"PyTorch output: {pt_output[:2]}\")\n",
    "\n",
    "        assert np.allclose(my_output.data, pt_output.detach().numpy(), atol=1e-6)\n",
    "\n",
    "test_mlp()"
   ]
  }
 ],
 "metadata": {
  "kernelspec": {
   "display_name": "venv",
   "language": "python",
   "name": "python3"
  },
  "language_info": {
   "codemirror_mode": {
    "name": "ipython",
    "version": 3
   },
   "file_extension": ".py",
   "mimetype": "text/x-python",
   "name": "python",
   "nbconvert_exporter": "python",
   "pygments_lexer": "ipython3",
   "version": "3.10.0"
  },
  "orig_nbformat": 4
 },
 "nbformat": 4,
 "nbformat_minor": 2
}
