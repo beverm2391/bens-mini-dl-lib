{
 "cells": [
  {
   "cell_type": "code",
   "execution_count": 1,
   "metadata": {},
   "outputs": [],
   "source": [
    "import numpy as np\n",
    "from typing import List\n",
    "import torch\n",
    "\n",
    "from lib.Tensor import Tensor, force_tensor_method\n",
    "from lib.NN import Dense, ReLU, Module"
   ]
  },
  {
   "cell_type": "code",
   "execution_count": 2,
   "metadata": {},
   "outputs": [],
   "source": [
    "class MLP(Module):\n",
    "    def __init__(self, layer_dims: List[int], activation_fn=ReLU) -> None:\n",
    "        super().__init__()\n",
    "\n",
    "        for i in range(len(layer_dims) - 1):\n",
    "            self.add_module(f\"dense_{i}\", Dense(layer_dims[i], layer_dims[i+1]))\n",
    "            if i < len(layer_dims) - 2:\n",
    "                self.add_module(f\"activation_{i}\", activation_fn())\n",
    "\n",
    "    @force_tensor_method\n",
    "    def forward(self, x: Tensor) -> Tensor:\n",
    "        for name, module in self._modules.items():\n",
    "            x = module(x)\n",
    "        return x"
   ]
  },
  {
   "cell_type": "code",
   "execution_count": 3,
   "metadata": {},
   "outputs": [
    {
     "data": {
      "text/plain": [
       "Tensor([[-6.27905561e-08]\n",
       " [ 1.61869052e-06]\n",
       " [ 2.76903153e-07]\n",
       " [-1.46876107e-07]\n",
       " [-1.87711920e-07]\n",
       " [-9.53964173e-08]\n",
       " [-7.33877209e-09]\n",
       " [ 1.16244502e-06]\n",
       " [-5.82201637e-08]\n",
       " [ 2.81100226e-07]], requires_grad=True)"
      ]
     },
     "execution_count": 3,
     "metadata": {},
     "output_type": "execute_result"
    }
   ],
   "source": [
    "layer_dims = [2, 4, 4, 1]\n",
    "model = MLP(layer_dims)\n",
    "input = Tensor(np.random.randn(10, 2), requires_grad=True)\n",
    "\n",
    "output = model(input)\n",
    "output"
   ]
  },
  {
   "cell_type": "code",
   "execution_count": 5,
   "metadata": {},
   "outputs": [
    {
     "data": {
      "text/plain": [
       "['dense_0', 'activation_0', 'dense_1', 'activation_1', 'dense_2']"
      ]
     },
     "execution_count": 5,
     "metadata": {},
     "output_type": "execute_result"
    }
   ],
   "source": [
    "model.list_modules()"
   ]
  },
  {
   "cell_type": "code",
   "execution_count": 8,
   "metadata": {},
   "outputs": [
    {
     "data": {
      "text/plain": [
       "[Tensor([[-0.01429236  0.01350345 -0.00396048  0.00135202]\n",
       "  [-0.01179299 -0.00217827 -0.01334576  0.01822204]\n",
       "  [ 0.00877019  0.010452    0.01088153  0.00806909]\n",
       "  [ 0.00295033  0.0070769   0.00321758  0.01096843]], requires_grad=False),\n",
       " Tensor([0. 0. 0. 0.], requires_grad=False)]"
      ]
     },
     "execution_count": 8,
     "metadata": {},
     "output_type": "execute_result"
    }
   ],
   "source": [
    "model.get_module(\"dense_1\").parameters()"
   ]
  },
  {
   "cell_type": "code",
   "execution_count": 22,
   "metadata": {},
   "outputs": [
    {
     "name": "stdout",
     "output_type": "stream",
     "text": [
      "My output: [[-1.43804759e-04 -7.80065126e-04]\n",
      " [-3.90672927e-05 -1.27185959e-03]]\n",
      "PyTorch output: tensor([[-1.4380e-04, -7.8007e-04],\n",
      "        [-3.9067e-05, -1.2719e-03]])\n"
     ]
    }
   ],
   "source": [
    "input_dim = 5\n",
    "hidden_dim = 10\n",
    "output_dim = 2\n",
    "batch_size = 32\n",
    "\n",
    "layer_dims = [input_dim, hidden_dim, output_dim]\n",
    "\n",
    "# Create your custom MLP and PyTorch MLP\n",
    "mlp = MLP(layer_dims, activation_fn=ReLU)\n",
    "pt_mlp = torch.nn.Sequential(\n",
    "    torch.nn.Linear(input_dim, hidden_dim),\n",
    "    torch.nn.ReLU(),\n",
    "    torch.nn.Linear(hidden_dim, output_dim)\n",
    ")\n",
    "\n",
    "with torch.no_grad():\n",
    "    my_dense_0_params = mlp.get_module(\"dense_0\").parameters()\n",
    "    pt_mlp[0].weight.copy_(torch.tensor(my_dense_0_params[0].data))\n",
    "    pt_mlp[0].bias.copy_(torch.tensor(my_dense_0_params[1].data))\n",
    "\n",
    "    my_dense_1_params = mlp.get_module(\"dense_1\").parameters()\n",
    "    pt_mlp[2].weight.copy_(torch.tensor(my_dense_1_params[0].data))\n",
    "    pt_mlp[2].bias.copy_(torch.tensor(my_dense_1_params[1].data))\n",
    "\n",
    "    # Create random input tensor\n",
    "    pt_input = torch.randn(batch_size, input_dim)\n",
    "    my_input = Tensor(pt_input.numpy())  # Assuming you have a way to convert numpy arrays to your Tensor class\n",
    "\n",
    "    # Forward pass\n",
    "    pt_output = pt_mlp(pt_input)\n",
    "    my_output = mlp(my_input)\n",
    "\n",
    "    print(f\"My output: {my_output.data[:2]}\")\n",
    "    print(f\"PyTorch output: {pt_output[:2]}\")\n",
    "\n",
    "    assert np.allclose(my_output.data, pt_output.detach().numpy(), atol=1e-6)"
   ]
  },
  {
   "cell_type": "markdown",
   "metadata": {},
   "source": [
    "t"
   ]
  },
  {
   "cell_type": "code",
   "execution_count": 24,
   "metadata": {},
   "outputs": [],
   "source": [
    "def test_mlp():\n",
    "    input_dim = 5\n",
    "    hidden_dim = 10\n",
    "    output_dim = 2\n",
    "    batch_size = 32\n",
    "\n",
    "    layer_dims = [input_dim, hidden_dim, output_dim]\n",
    "\n",
    "    # Create your custom MLP and PyTorch MLP\n",
    "    mlp = MLP(layer_dims, activation_fn=ReLU)\n",
    "    pt_mlp = torch.nn.Sequential(\n",
    "        torch.nn.Linear(input_dim, hidden_dim),\n",
    "        torch.nn.ReLU(),\n",
    "        torch.nn.Linear(hidden_dim, output_dim)\n",
    "    )\n",
    "\n",
    "    with torch.no_grad():\n",
    "        my_dense_0_params = mlp.get_module(\"dense_0\").parameters()\n",
    "        pt_mlp[0].weight.copy_(torch.tensor(my_dense_0_params[0].data))\n",
    "        pt_mlp[0].bias.copy_(torch.tensor(my_dense_0_params[1].data))\n",
    "\n",
    "        my_dense_1_params = mlp.get_module(\"dense_1\").parameters()\n",
    "        pt_mlp[2].weight.copy_(torch.tensor(my_dense_1_params[0].data))\n",
    "        pt_mlp[2].bias.copy_(torch.tensor(my_dense_1_params[1].data))\n",
    "\n",
    "        # Create random input tensor\n",
    "        pt_input = torch.randn(batch_size, input_dim)\n",
    "        my_input = Tensor(pt_input.numpy())  # Assuming you have a way to convert numpy arrays to your Tensor class\n",
    "\n",
    "        # Forward pass\n",
    "        pt_output = pt_mlp(pt_input)\n",
    "        my_output = mlp(my_input)\n",
    "\n",
    "        # print(f\"My output: {my_output.data[:2]}\")\n",
    "        # print(f\"PyTorch output: {pt_output[:2]}\")\n",
    "\n",
    "        assert np.allclose(my_output.data, pt_output.detach().numpy(), atol=1e-6)\n",
    "\n",
    "test_mlp()"
   ]
  }
 ],
 "metadata": {
  "kernelspec": {
   "display_name": "venv",
   "language": "python",
   "name": "python3"
  },
  "language_info": {
   "codemirror_mode": {
    "name": "ipython",
    "version": 3
   },
   "file_extension": ".py",
   "mimetype": "text/x-python",
   "name": "python",
   "nbconvert_exporter": "python",
   "pygments_lexer": "ipython3",
   "version": "3.10.0"
  },
  "orig_nbformat": 4
 },
 "nbformat": 4,
 "nbformat_minor": 2
}
