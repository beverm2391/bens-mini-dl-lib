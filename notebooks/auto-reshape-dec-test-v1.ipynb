{
 "cells": [
  {
   "cell_type": "code",
   "execution_count": 9,
   "metadata": {},
   "outputs": [],
   "source": [
    "import numpy as np\n",
    "import torch\n",
    "\n",
    "from lib.Tensor import Tensor"
   ]
  },
  {
   "cell_type": "code",
   "execution_count": 64,
   "metadata": {},
   "outputs": [],
   "source": [
    "data = np.random.randn(120,)\n",
    "data2 = np.random.randn(120, 4)\n",
    "data3 = np.array(1)\n",
    "data4 = np.random.randn(120, 4, 5)"
   ]
  },
  {
   "cell_type": "code",
   "execution_count": 60,
   "metadata": {},
   "outputs": [
    {
     "name": "stdout",
     "output_type": "stream",
     "text": [
      "(120,) 1\n",
      "(120, 4) 2\n",
      "() 0\n"
     ]
    }
   ],
   "source": [
    "print(data.shape, data.ndim)\n",
    "print(data2.shape, data2.ndim)\n",
    "print(data3.shape, data3.ndim)"
   ]
  },
  {
   "cell_type": "code",
   "execution_count": 66,
   "metadata": {},
   "outputs": [
    {
     "ename": "ValueError",
     "evalue": "operands could not be broadcast together with shapes (120,4,5) (120,) ",
     "output_type": "error",
     "traceback": [
      "\u001b[0;31m---------------------------------------------------------------------------\u001b[0m",
      "\u001b[0;31mValueError\u001b[0m                                Traceback (most recent call last)",
      "\u001b[1;32m/Users/beneverman/Documents/Coding/bens-mini-dl/notebooks/auto-reshape-dec-test-v1.ipynb Cell 4\u001b[0m line \u001b[0;36m1\n\u001b[1;32m      <a href='vscode-notebook-cell:/Users/beneverman/Documents/Coding/bens-mini-dl/notebooks/auto-reshape-dec-test-v1.ipynb#X13sZmlsZQ%3D%3D?line=0'>1</a>\u001b[0m \u001b[39m# Type 1 (120,) 1D\u001b[39;00m\n\u001b[1;32m      <a href='vscode-notebook-cell:/Users/beneverman/Documents/Coding/bens-mini-dl/notebooks/auto-reshape-dec-test-v1.ipynb#X13sZmlsZQ%3D%3D?line=1'>2</a>\u001b[0m \u001b[39m# Type 2 (120, 4) 2D\u001b[39;00m\n\u001b[1;32m      <a href='vscode-notebook-cell:/Users/beneverman/Documents/Coding/bens-mini-dl/notebooks/auto-reshape-dec-test-v1.ipynb#X13sZmlsZQ%3D%3D?line=2'>3</a>\u001b[0m \u001b[39m# Type 3 (1) 0D\u001b[39;00m\n\u001b[0;32m   (...)\u001b[0m\n\u001b[1;32m     <a href='vscode-notebook-cell:/Users/beneverman/Documents/Coding/bens-mini-dl/notebooks/auto-reshape-dec-test-v1.ipynb#X13sZmlsZQ%3D%3D?line=9'>10</a>\u001b[0m \n\u001b[1;32m     <a href='vscode-notebook-cell:/Users/beneverman/Documents/Coding/bens-mini-dl/notebooks/auto-reshape-dec-test-v1.ipynb#X13sZmlsZQ%3D%3D?line=10'>11</a>\u001b[0m \u001b[39m# data4 + data3 # * Works (3+ and 0)\u001b[39;00m\n\u001b[0;32m---> <a href='vscode-notebook-cell:/Users/beneverman/Documents/Coding/bens-mini-dl/notebooks/auto-reshape-dec-test-v1.ipynb#X13sZmlsZQ%3D%3D?line=12'>13</a>\u001b[0m data4 \u001b[39m+\u001b[39;49m data \n",
      "\u001b[0;31mValueError\u001b[0m: operands could not be broadcast together with shapes (120,4,5) (120,) "
     ]
    }
   ],
   "source": [
    "# Type 1 (120,) 1D\n",
    "# Type 2 (120, 4) 2D\n",
    "# Type 3 (1) 0D\n",
    "# Type 4 (120, 4, 5) 3D\n",
    "\n",
    "# data + data2 # ! Fails ( 1 and 2)\n",
    "\n",
    "# data + data3 # * Works (1 and 0)\n",
    "\n",
    "# data2 + data3 # * Works (2+ and 0)\n",
    "\n",
    "# data4 + data3 # * Works (3+ and 0)\n",
    "\n",
    "data4 + data "
   ]
  },
  {
   "cell_type": "code",
   "execution_count": 70,
   "metadata": {},
   "outputs": [],
   "source": [
    "data1_new, data2_new = fix(data, data2)"
   ]
  },
  {
   "cell_type": "code",
   "execution_count": 76,
   "metadata": {},
   "outputs": [
    {
     "data": {
      "text/plain": [
       "array([[ 1.29434823,  0.81740956,  1.28414845, ..., -1.46286128,\n",
       "         1.67571038,  2.22487767],\n",
       "       [ 1.20629838,  0.72935971,  1.19609861, ..., -1.55091113,\n",
       "         1.58766053,  2.13682782],\n",
       "       [ 1.09845984,  0.62152116,  1.08826006, ..., -1.65874968,\n",
       "         1.47982198,  2.02898927],\n",
       "       ...,\n",
       "       [-0.70490754, -1.18184622, -0.71510732, ..., -3.46211706,\n",
       "        -0.3235454 ,  0.22562189],\n",
       "       [-0.70041842, -1.17735709, -0.71061819, ..., -3.45762793,\n",
       "        -0.31905627,  0.23011102],\n",
       "       [ 1.7947004 ,  1.31776173,  1.78450063, ..., -0.96250911,\n",
       "         2.17606255,  2.72522984]])"
      ]
     },
     "execution_count": 76,
     "metadata": {},
     "output_type": "execute_result"
    }
   ],
   "source": [
    "data + data2.reshape(-1, 1)"
   ]
  },
  {
   "cell_type": "code",
   "execution_count": 69,
   "metadata": {},
   "outputs": [],
   "source": []
  },
  {
   "cell_type": "code",
   "execution_count": 55,
   "metadata": {},
   "outputs": [
    {
     "name": "stdout",
     "output_type": "stream",
     "text": [
      "Reshaping self of ndim 1 and shape (120,) to be 2D\n"
     ]
    },
    {
     "ename": "ValueError",
     "evalue": "operands could not be broadcast together with shapes (1,120) (120,4) ",
     "output_type": "error",
     "traceback": [
      "\u001b[0;31m---------------------------------------------------------------------------\u001b[0m",
      "\u001b[0;31mValueError\u001b[0m                                Traceback (most recent call last)",
      "\u001b[1;32m/Users/beneverman/Documents/Coding/bens-mini-dl/notebooks/auto-reshape-dec-test-v1.ipynb Cell 3\u001b[0m line \u001b[0;36m6\n\u001b[1;32m      <a href='vscode-notebook-cell:/Users/beneverman/Documents/Coding/bens-mini-dl/notebooks/auto-reshape-dec-test-v1.ipynb#W1sZmlsZQ%3D%3D?line=2'>3</a>\u001b[0m pt_1 \u001b[39m=\u001b[39m torch\u001b[39m.\u001b[39mtensor(data)\n\u001b[1;32m      <a href='vscode-notebook-cell:/Users/beneverman/Documents/Coding/bens-mini-dl/notebooks/auto-reshape-dec-test-v1.ipynb#W1sZmlsZQ%3D%3D?line=3'>4</a>\u001b[0m pt_2 \u001b[39m=\u001b[39m torch\u001b[39m.\u001b[39mtensor(data2)\n\u001b[0;32m----> <a href='vscode-notebook-cell:/Users/beneverman/Documents/Coding/bens-mini-dl/notebooks/auto-reshape-dec-test-v1.ipynb#W1sZmlsZQ%3D%3D?line=5'>6</a>\u001b[0m t3 \u001b[39m=\u001b[39m t1 \u001b[39m+\u001b[39;49m t2\n\u001b[1;32m      <a href='vscode-notebook-cell:/Users/beneverman/Documents/Coding/bens-mini-dl/notebooks/auto-reshape-dec-test-v1.ipynb#W1sZmlsZQ%3D%3D?line=6'>7</a>\u001b[0m pt_3 \u001b[39m=\u001b[39m pt_1 \u001b[39m+\u001b[39m pt_2\n\u001b[1;32m      <a href='vscode-notebook-cell:/Users/beneverman/Documents/Coding/bens-mini-dl/notebooks/auto-reshape-dec-test-v1.ipynb#W1sZmlsZQ%3D%3D?line=8'>9</a>\u001b[0m \u001b[39massert\u001b[39;00m np\u001b[39m.\u001b[39mallclose(t3\u001b[39m.\u001b[39mdata, pt_3\u001b[39m.\u001b[39mnumpy())\n",
      "File \u001b[0;32m~/Documents/Coding/bens-mini-dl/lib/Tensor.py:71\u001b[0m, in \u001b[0;36mTensor.make_tensor.<locals>.wrapper\u001b[0;34m(self, other)\u001b[0m\n\u001b[1;32m     69\u001b[0m \u001b[39mif\u001b[39;00m \u001b[39mnot\u001b[39;00m \u001b[39misinstance\u001b[39m(other, Tensor):\n\u001b[1;32m     70\u001b[0m     other \u001b[39m=\u001b[39m Tensor(other, requires_grad\u001b[39m=\u001b[39m\u001b[39mself\u001b[39m\u001b[39m.\u001b[39mrequires_grad)\n\u001b[0;32m---> 71\u001b[0m \u001b[39mreturn\u001b[39;00m func(\u001b[39mself\u001b[39;49m, other)\n",
      "File \u001b[0;32m~/Documents/Coding/bens-mini-dl/lib/Tensor.py:97\u001b[0m, in \u001b[0;36mTensor.auto_reshape.<locals>.wrapper\u001b[0;34m(self, other)\u001b[0m\n\u001b[1;32m     95\u001b[0m     \u001b[39mprint\u001b[39m(\u001b[39mf\u001b[39m\u001b[39m\"\u001b[39m\u001b[39mReshaping other of ndim \u001b[39m\u001b[39m{\u001b[39;00mother\u001b[39m.\u001b[39mndim\u001b[39m}\u001b[39;00m\u001b[39m and shape \u001b[39m\u001b[39m{\u001b[39;00m\u001b[39mself\u001b[39m\u001b[39m.\u001b[39mshape\u001b[39m}\u001b[39;00m\u001b[39m to be 2D\u001b[39m\u001b[39m\"\u001b[39m)\n\u001b[1;32m     96\u001b[0m     other\u001b[39m.\u001b[39mdata \u001b[39m=\u001b[39m other\u001b[39m.\u001b[39mdata\u001b[39m.\u001b[39mreshape(\u001b[39m1\u001b[39m, \u001b[39m-\u001b[39m\u001b[39m1\u001b[39m)\n\u001b[0;32m---> 97\u001b[0m \u001b[39mreturn\u001b[39;00m func(\u001b[39mself\u001b[39;49m, other)\n",
      "File \u001b[0;32m~/Documents/Coding/bens-mini-dl/lib/Tensor.py:152\u001b[0m, in \u001b[0;36mTensor.__add__\u001b[0;34m(self, other)\u001b[0m\n\u001b[1;32m    148\u001b[0m \u001b[39m\u001b[39m\u001b[39m\"\"\"\u001b[39;00m\n\u001b[1;32m    149\u001b[0m \u001b[39mUpdated add method to handle reshape error\u001b[39;00m\n\u001b[1;32m    150\u001b[0m \u001b[39m\"\"\"\u001b[39;00m\n\u001b[1;32m    151\u001b[0m rg \u001b[39m=\u001b[39m \u001b[39mself\u001b[39m\u001b[39m.\u001b[39mrequires_grad \u001b[39mor\u001b[39;00m other\u001b[39m.\u001b[39mrequires_grad\n\u001b[0;32m--> 152\u001b[0m out \u001b[39m=\u001b[39m np\u001b[39m.\u001b[39;49madd(\u001b[39mself\u001b[39;49m\u001b[39m.\u001b[39;49mdata, other\u001b[39m.\u001b[39;49mdata)\n\u001b[1;32m    153\u001b[0m out \u001b[39m=\u001b[39m Tensor(out, (\u001b[39mself\u001b[39m, other), \u001b[39m'\u001b[39m\u001b[39madd\u001b[39m\u001b[39m'\u001b[39m, requires_grad\u001b[39m=\u001b[39mrg)\n\u001b[1;32m    155\u001b[0m \u001b[39mdef\u001b[39;00m \u001b[39m_backward\u001b[39m():\n",
      "\u001b[0;31mValueError\u001b[0m: operands could not be broadcast together with shapes (1,120) (120,4) "
     ]
    }
   ],
   "source": [
    "t1 = Tensor(data)\n",
    "t2 = Tensor(data2)\n",
    "pt_1 = torch.tensor(data)\n",
    "pt_2 = torch.tensor(data2)\n",
    "\n",
    "t3 = t1 + t2\n",
    "pt_3 = pt_1 + pt_2\n",
    "\n",
    "assert np.allclose(t3.data, pt_3.numpy())\n",
    "\n",
    "t4 = t1 + 1\n",
    "pt_4 = pt_1 + 1\n",
    "\n",
    "assert np.allclose(t4.data, pt_4.numpy())"
   ]
  },
  {
   "cell_type": "code",
   "execution_count": 85,
   "metadata": {},
   "outputs": [],
   "source": [
    "data5 = np.random.randn(120,)\n",
    "data6 = np.random.randn(120, 4)"
   ]
  },
  {
   "cell_type": "code",
   "execution_count": 87,
   "metadata": {},
   "outputs": [
    {
     "ename": "RuntimeError",
     "evalue": "The size of tensor a (120) must match the size of tensor b (4) at non-singleton dimension 1",
     "output_type": "error",
     "traceback": [
      "\u001b[0;31m---------------------------------------------------------------------------\u001b[0m",
      "\u001b[0;31mRuntimeError\u001b[0m                              Traceback (most recent call last)",
      "\u001b[1;32m/Users/beneverman/Documents/Coding/bens-mini-dl/notebooks/auto-reshape-dec-test-v1.ipynb Cell 10\u001b[0m line \u001b[0;36m1\n\u001b[0;32m----> <a href='vscode-notebook-cell:/Users/beneverman/Documents/Coding/bens-mini-dl/notebooks/auto-reshape-dec-test-v1.ipynb#X21sZmlsZQ%3D%3D?line=0'>1</a>\u001b[0m torch\u001b[39m.\u001b[39;49mTensor(data5) \u001b[39m+\u001b[39;49m torch\u001b[39m.\u001b[39;49mTensor(data6)\n",
      "\u001b[0;31mRuntimeError\u001b[0m: The size of tensor a (120) must match the size of tensor b (4) at non-singleton dimension 1"
     ]
    }
   ],
   "source": [
    "torch.Tensor(data5) + torch.Tensor(data6)"
   ]
  }
 ],
 "metadata": {
  "kernelspec": {
   "display_name": "venv",
   "language": "python",
   "name": "python3"
  },
  "language_info": {
   "codemirror_mode": {
    "name": "ipython",
    "version": 3
   },
   "file_extension": ".py",
   "mimetype": "text/x-python",
   "name": "python",
   "nbconvert_exporter": "python",
   "pygments_lexer": "ipython3",
   "version": "3.10.0"
  },
  "orig_nbformat": 4
 },
 "nbformat": 4,
 "nbformat_minor": 2
}
