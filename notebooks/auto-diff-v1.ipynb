{
 "cells": [
  {
   "cell_type": "code",
   "execution_count": null,
   "metadata": {},
   "outputs": [],
   "source": [
    "# Following this blog post: https://vmartin.fr/understanding-automatic-differentiation-in-30-lines-of-python.html"
   ]
  },
  {
   "cell_type": "code",
   "execution_count": 1,
   "metadata": {},
   "outputs": [],
   "source": [
    "import numpy as np\n",
    "from collections import namedtuple"
   ]
  },
  {
   "cell_type": "code",
   "execution_count": 2,
   "metadata": {},
   "outputs": [],
   "source": [
    "class Tensor:\n",
    "    def __init__(self, value=None):\n",
    "        self.value = value\n",
    "\n",
    "    def __repr__(self):\n",
    "        return f\"T:{self.value}\"\n",
    "    \n",
    "    def __add__(self, other):\n",
    "        return Tensor(value = self.value + other.value)"
   ]
  },
  {
   "cell_type": "code",
   "execution_count": 3,
   "metadata": {},
   "outputs": [
    {
     "name": "stdout",
     "output_type": "stream",
     "text": [
      "Age 21\n"
     ]
    },
    {
     "data": {
      "text/plain": [
       "Student(name='Nidhi', age='21', DOB='2541997')"
      ]
     },
     "execution_count": 3,
     "metadata": {},
     "output_type": "execute_result"
    }
   ],
   "source": [
    "# getting comforatable with named tuple\n",
    "\n",
    "Student = namedtuple('Student', ['name', 'age', 'DOB'])\n",
    "\n",
    "s = Student('Nidhi', '21', '2541997')\n",
    "\n",
    "print(f\"Age {s[1]}\")\n",
    "s"
   ]
  },
  {
   "cell_type": "code",
   "execution_count": 9,
   "metadata": {},
   "outputs": [],
   "source": [
    "Children = namedtuple('Children', ['a', 'b', 'op']) # child a, child b, operation\n",
    "\n",
    "# ! This whole thing is just a tree of chain rule\n",
    "class Tensor:\n",
    "    def __init__(self, value=None, children=None, name=None):\n",
    "        self.value = value # Tensor value\n",
    "        self.children = children # Children object (named tuple)\n",
    "        self.name = name # name of the tensor\n",
    "\n",
    "    def forward(self):\n",
    "        # recursively compute forward pass\n",
    "        if self.children is None:\n",
    "            return self # leaf node\n",
    "    \n",
    "        # compute forward for children\n",
    "        a = self.children.a.forward() # recursively compute forward pass\n",
    "        b = self.children.b.forward() # recursively compute forward pass\n",
    "\n",
    "        if a.value is not None: \n",
    "            # If the operation does not need a term b (like exp(a) for example)\n",
    "            # Use only a\n",
    "            if self.children.b is None:\n",
    "                self.value = self.children.op(a.value)\n",
    "            # Else if op needs a second term b and his value is not None after forward pass\n",
    "            elif b.value is not None:\n",
    "                self.value = self.children.op(a.value, b.value)\n",
    "        return self\n",
    "    \n",
    "    def grad(self, deriv_to):\n",
    "        # Derivative of a tensor with itself is 1\n",
    "        if self is deriv_to:\n",
    "            return Tensor(1)\n",
    "        \n",
    "        # if leaf node, derivative is 0\n",
    "        if self.children is None:\n",
    "            return Tensor(0)\n",
    "        \n",
    "        if self.children.op is np.add: # (a+b)' = a' + b'\n",
    "            t = self.children.a.grad(deriv_to) + self.children.b.grad(deriv_to)\n",
    "        elif self.children.op is np.subtract: # (a-b)' = a' - b'\n",
    "            t = self.children.a.grad(deriv_to) - self.children.b.grad(deriv_to)\n",
    "        elif self.children.op is np.multiply: # (a*b)' = a'*b + a*b'\n",
    "            t = self.children.a.grad(deriv_to)*self.children.b + \\\n",
    "                self.children.a*self.children.b.grad(deriv_to)\n",
    "        elif self.children.op is np.divide: # (a/b)' = (a'*b - a*b')/b^2\n",
    "            t = (self.children.a.grad(deriv_to)*self.children.b - \\\n",
    "                self.children.a*self.children.b.grad(deriv_to))/self.children.b**2\n",
    "        elif self.children.op is np.exp: # (exp(a))' = exp(a)*a'\n",
    "            t = self.children.a.grad(deriv_to)*self.children.op(self.children.a)\n",
    "        else:\n",
    "            raise NotImplementedError(f\"Gradient not implemented for {self.children.op}\")\n",
    "        \n",
    "        return t\n",
    "\n",
    "    def __repr__(self):\n",
    "        return f\"T:{self.value}\"\n",
    "    \n",
    "    def __add__(self, other):\n",
    "        c = Children(self, other, np.add)\n",
    "        t = Tensor(children=c)\n",
    "        return t.forward()\n",
    "    \n",
    "    def __sub__(self, other):\n",
    "        c = Children(self, other, np.subtract)\n",
    "        t = Tensor(children=c)\n",
    "        return t.forward()\n",
    "\n",
    "    def __mul__(self, other):\n",
    "        c = Children(self, other, np.multiply)\n",
    "        t = Tensor(children=c)\n",
    "        return t.forward()\n",
    "\n",
    "    def __truediv__(self, other):\n",
    "        c = Children(self, other, np.divide)\n",
    "        t = Tensor(children=c)\n",
    "        return t.forward()\n",
    "\n",
    "    def __neg__(self):\n",
    "        c = Children(Tensor(value=np.zeros_like(self.value)), self, np.subtract)\n",
    "        t = Tensor(children=c)\n",
    "        return t.forward()\n",
    "\n",
    "    def exp(self):\n",
    "        c = Children(self, None, np.exp)\n",
    "        t = Tensor(children=c)\n",
    "        return t.forward()"
   ]
  },
  {
   "cell_type": "code",
   "execution_count": 7,
   "metadata": {},
   "outputs": [
    {
     "name": "stdout",
     "output_type": "stream",
     "text": [
      "T:3 T:5\n",
      "T:40\n"
     ]
    }
   ],
   "source": [
    "x = Tensor(3)\n",
    "y = Tensor(5)\n",
    "z1 = x + y\n",
    "z2 = z1 * y\n",
    "print(x, y)\n",
    "print(z2)"
   ]
  },
  {
   "cell_type": "markdown",
   "metadata": {},
   "source": [
    "$$z1 = 3 + 5$$\n",
    "$$z2 = z1 * 5 = 8 * 5 = 40$$"
   ]
  },
  {
   "cell_type": "code",
   "execution_count": 8,
   "metadata": {},
   "outputs": [
    {
     "name": "stdout",
     "output_type": "stream",
     "text": [
      "T:3 T:5\n",
      "T:13\n"
     ]
    }
   ],
   "source": [
    "print(x, y)\n",
    "print(z2.grad(y))"
   ]
  }
 ],
 "metadata": {
  "kernelspec": {
   "display_name": "venv",
   "language": "python",
   "name": "python3"
  },
  "language_info": {
   "codemirror_mode": {
    "name": "ipython",
    "version": 3
   },
   "file_extension": ".py",
   "mimetype": "text/x-python",
   "name": "python",
   "nbconvert_exporter": "python",
   "pygments_lexer": "ipython3",
   "version": "3.10.0"
  },
  "orig_nbformat": 4
 },
 "nbformat": 4,
 "nbformat_minor": 2
}
