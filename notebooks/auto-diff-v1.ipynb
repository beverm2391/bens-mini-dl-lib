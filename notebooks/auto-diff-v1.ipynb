{
 "cells": [
  {
   "cell_type": "code",
   "execution_count": null,
   "metadata": {},
   "outputs": [],
   "source": [
    "# Following this blog post: https://vmartin.fr/understanding-automatic-differentiation-in-30-lines-of-python.html"
   ]
  },
  {
   "cell_type": "code",
   "execution_count": 3,
   "metadata": {},
   "outputs": [],
   "source": [
    "import numpy as np\n",
    "from collections import namedtuple"
   ]
  },
  {
   "cell_type": "code",
   "execution_count": 2,
   "metadata": {},
   "outputs": [],
   "source": [
    "class Tensor:\n",
    "    def __init__(self, value=None):\n",
    "        self.value = value\n",
    "\n",
    "    def __repr__(self):\n",
    "        return f\"T:{self.value}\"\n",
    "    \n",
    "    def __add__(self, other):\n",
    "        return Tensor(value = self.value + other.value)"
   ]
  },
  {
   "cell_type": "code",
   "execution_count": 7,
   "metadata": {},
   "outputs": [
    {
     "name": "stdout",
     "output_type": "stream",
     "text": [
      "Age 21\n"
     ]
    },
    {
     "data": {
      "text/plain": [
       "Student(name='Nidhi', age='21', DOB='2541997')"
      ]
     },
     "execution_count": 7,
     "metadata": {},
     "output_type": "execute_result"
    }
   ],
   "source": [
    "# getting comforatable with named tuple\n",
    "\n",
    "Student = namedtuple('Student', ['name', 'age', 'DOB'])\n",
    "\n",
    "s = Student('Nidhi', '21', '2541997')\n",
    "\n",
    "print(f\"Age {s[1]}\")\n",
    "s"
   ]
  },
  {
   "cell_type": "code",
   "execution_count": 8,
   "metadata": {},
   "outputs": [],
   "source": [
    "Children = namedtuple('Children', ['a', 'b', 'op'])\n",
    "\n",
    "class Tensor:\n",
    "    def __init__(self, value=None, children=None):\n",
    "        self.value = value\n",
    "        self.children = children\n",
    "\n",
    "    def forward(self):\n",
    "        # recursively compute forward pass\n",
    "        if self.children is None:\n",
    "            return self\n",
    "    \n",
    "        # compute forward for children\n",
    "        a = self.children.a.forward()\n",
    "        b = self.children.b.forward()\n",
    "\n",
    "        # if both children are tensors, compute operation\n",
    "        if a.value is not None and b.value is not None:\n",
    "            self.value = self.children.op(a.value, b.value)\n",
    "        return self\n",
    "\n",
    "    def __repr__(self):\n",
    "        return f\"T:{self.value}\"\n",
    "    \n",
    "    def __add__(self, other):\n",
    "        c = Children(self, other, np.add)\n",
    "        t = Tensor(children=c)\n",
    "        return t.forward()\n",
    "    \n",
    "    def __mul__(self, other):\n",
    "        c = Children(self, other, np.multiply)\n",
    "        t = Tensor(children=c)\n",
    "        return t.forward()"
   ]
  },
  {
   "cell_type": "code",
   "execution_count": 10,
   "metadata": {},
   "outputs": [
    {
     "name": "stdout",
     "output_type": "stream",
     "text": [
      "T:3 T:5\n",
      "T:40\n"
     ]
    }
   ],
   "source": [
    "x = Tensor(3)\n",
    "y = Tensor(5)\n",
    "z1 = x + y\n",
    "z2 = z1 * y\n",
    "print(x, y)\n",
    "print(z2)"
   ]
  }
 ],
 "metadata": {
  "kernelspec": {
   "display_name": "venv",
   "language": "python",
   "name": "python3"
  },
  "language_info": {
   "codemirror_mode": {
    "name": "ipython",
    "version": 3
   },
   "file_extension": ".py",
   "mimetype": "text/x-python",
   "name": "python",
   "nbconvert_exporter": "python",
   "pygments_lexer": "ipython3",
   "version": "3.10.0"
  },
  "orig_nbformat": 4
 },
 "nbformat": 4,
 "nbformat_minor": 2
}
