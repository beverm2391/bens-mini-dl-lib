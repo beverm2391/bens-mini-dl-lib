{
 "cells": [
  {
   "cell_type": "code",
   "execution_count": 1,
   "metadata": {},
   "outputs": [],
   "source": [
    "import numpy as np"
   ]
  },
  {
   "cell_type": "code",
   "execution_count": 59,
   "metadata": {},
   "outputs": [],
   "source": [
    "class Tensor:\n",
    "    def __init__(self, data):\n",
    "        self.data = np.array(data)\n",
    "        self.shape = self.data.shape\n",
    "    # TODO - add single dtype restriction\n",
    "\n",
    "    # Other refers to the other tensor\n",
    "    def __add__(self, other):\n",
    "        return Tensor(self.data + other.data) # element-wise addition\n",
    "\n",
    "    def __sub__(self, other):\n",
    "        return Tensor(self.data - other.data) # element-wise subtraction\n",
    "    \n",
    "    def __mul__(self, other):\n",
    "        return Tensor(self.data * other.data) # element-wise multiplication\n",
    "\n",
    "    def __dot__(self, other):\n",
    "        return Tensor(np.dot(self.data, other.data)) # dot product\n",
    "    \n",
    "    def __matmul__(self, other): # matrix multiplication\n",
    "        if not isinstance(other, Tensor):\n",
    "            raise TypeError(\"The 'other' must be an instance of Tensor.\")\n",
    "            \n",
    "        if self.data.ndim == 1:\n",
    "            self.data = self.data.reshape((1, -1)) # if data is a vector, reshape it to a row vector\n",
    "        if other.data.ndim == 1:\n",
    "            other.data = other.data.reshape((-1, 1)) # if data is a vector, reshape it to a column vector\n",
    "\n",
    "        if self.data.shape[-1] != other.data.shape[-2]: # check if the last dimension of self is equal to the second last dimension of other\n",
    "            raise ValueError(f\"Cannot perform matrix multiplication on tensors with shapes {self.data.shape} and {other.data.shape}.\")\n",
    "\n",
    "        return Tensor(np.matmul(self.data, other.data)) # matrix multiplication\n",
    "\n",
    "    @property\n",
    "    def T(self):\n",
    "        return np.transpose(self.data)\n",
    "    \n",
    "    def __repr__(self):\n",
    "        return f\"Tensor({self.data.__repr__()})\""
   ]
  },
  {
   "cell_type": "code",
   "execution_count": 57,
   "metadata": {},
   "outputs": [],
   "source": [
    "def test_matmul():\n",
    "    t = Tensor([[1, 2, 3], [4, 5, 6]])\n",
    "    t2 = Tensor([[1, 2], [3, 4], [5, 6]])\n",
    "    assert (t @ t2).data.tolist() == [[22, 28], [49, 64]]"
   ]
  },
  {
   "cell_type": "code",
   "execution_count": 58,
   "metadata": {},
   "outputs": [],
   "source": [
    "t = Tensor(np.random.randn(2, 3))"
   ]
  },
  {
   "cell_type": "code",
   "execution_count": 50,
   "metadata": {},
   "outputs": [
    {
     "data": {
      "text/plain": [
       "Tensor(array([[ 0.77777018, -0.95928626],\n",
       "       [-0.95928626,  3.84862253]]))"
      ]
     },
     "execution_count": 50,
     "metadata": {},
     "output_type": "execute_result"
    }
   ],
   "source": [
    "t @ t.T"
   ]
  }
 ],
 "metadata": {
  "kernelspec": {
   "display_name": "venv",
   "language": "python",
   "name": "python3"
  },
  "language_info": {
   "codemirror_mode": {
    "name": "ipython",
    "version": 3
   },
   "file_extension": ".py",
   "mimetype": "text/x-python",
   "name": "python",
   "nbconvert_exporter": "python",
   "pygments_lexer": "ipython3",
   "version": "3.10.0"
  },
  "orig_nbformat": 4
 },
 "nbformat": 4,
 "nbformat_minor": 2
}
