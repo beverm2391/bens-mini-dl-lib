{
 "cells": [
  {
   "cell_type": "code",
   "execution_count": 4,
   "metadata": {},
   "outputs": [],
   "source": [
    "from abc import ABC, abstractmethod\n",
    "import numpy as np"
   ]
  },
  {
   "cell_type": "code",
   "execution_count": 3,
   "metadata": {},
   "outputs": [],
   "source": [
    "class Activation(ABC):\n",
    "\n",
    "    @abstractmethod\n",
    "    def forward(self, input_data):\n",
    "        pass\n",
    "\n",
    "    @abstractmethod\n",
    "    def backward(self, output_gradient):\n",
    "        pass"
   ]
  },
  {
   "cell_type": "code",
   "execution_count": 6,
   "metadata": {},
   "outputs": [],
   "source": [
    "class ReLU(Activation):\n",
    "    \"\"\"\n",
    "    ReLU Function:\n",
    "    $$ ReLU(x) = max(0, x) $$\n",
    "\n",
    "    Derivative:\n",
    "    $$ ReLU'(x) = 1 if x > 0 else 0 $$\n",
    "    \"\"\" \n",
    "\n",
    "    def forward(self, input_data):\n",
    "        self.input = input_data # save input data for backward pass\n",
    "        self.output = np.maximum(0, input_data) # contains $ReLU(x)$\n",
    "        return self.output\n",
    "\n",
    "    def backward(self, output_gradient):\n",
    "        input_gradient = np.where(self.input > 0, output_gradient, 0) # contains $ReLU'(x)$\n",
    "        return input_gradient"
   ]
  },
  {
   "cell_type": "code",
   "execution_count": 7,
   "metadata": {},
   "outputs": [],
   "source": [
    "class Sigmoid(Activation):\n",
    "\n",
    "    def forward(self, input_data):\n",
    "        self.input = input_data # contains $x$\n",
    "        self.output = 1 / (1 + np.exp(-input_data)) # contains $\\sigma(x)$\n",
    "        return self.output\n",
    "    \n",
    "    def backward(self, output_gradient):\n",
    "        input_gradient = output_gradient * self.output * (1 - self.output) # contains $\\sigma'(x)$\n",
    "        return input_gradient"
   ]
  },
  {
   "cell_type": "code",
   "execution_count": 8,
   "metadata": {},
   "outputs": [],
   "source": [
    "class Tanh(Activation):\n",
    "\n",
    "    def forward(self, input_data):\n",
    "        self.input = input_data\n",
    "        self.output = np.tanh(input_data) # $$\\tanh(x) = \\frac{e^x - e^{-x}}{e^x + e^{-x}}$$\n",
    "        return self.output\n",
    "    \n",
    "    def backward(self, output_gradient):\n",
    "        input_gradient = output_gradient * (1 - self.output ** 2) # $$\\tanh'(x) = 1 - \\tanh^2(x)$$\n",
    "        return input_gradient"
   ]
  },
  {
   "cell_type": "code",
   "execution_count": 9,
   "metadata": {},
   "outputs": [],
   "source": [
    "class SoftMax(Activation):\n",
    "\n",
    "    def forward(self, input_data):\n",
    "        self.input = input_data\n",
    "        exp_data = np.exp(input_data - np.max(input_data, axis=1, keepdims=True)) # subtract max to avoid overflow\n",
    "        self.output = exp_data / np.sum(exp_data, axis=1, keepdims=True)\n",
    "        return self.output\n",
    "\n",
    "    def backward(self, output_gradient):\n",
    "        input_gradient = np.zeros_like(self.output) # create zero matrix of same shape as output\n",
    "\n",
    "        # loop over the samples (assuming a batched input)\n",
    "        for i in range(self.input.shape[0]):\n",
    "            # get jacobian matrix of softmax for each sample\n",
    "            jacobian_matrix = np.diagflat(self.output[i]) - np.outer(self.output[i], self.output[i])\n",
    "            # multiply jacobian with output gradient\n",
    "            input_gradient[i] = output_gradient[i].dot(jacobian_matrix)\n",
    "\n",
    "        return input_gradient"
   ]
  }
 ],
 "metadata": {
  "kernelspec": {
   "display_name": "venv",
   "language": "python",
   "name": "python3"
  },
  "language_info": {
   "codemirror_mode": {
    "name": "ipython",
    "version": 3
   },
   "file_extension": ".py",
   "mimetype": "text/x-python",
   "name": "python",
   "nbconvert_exporter": "python",
   "pygments_lexer": "ipython3",
   "version": "3.10.0"
  },
  "orig_nbformat": 4
 },
 "nbformat": 4,
 "nbformat_minor": 2
}
