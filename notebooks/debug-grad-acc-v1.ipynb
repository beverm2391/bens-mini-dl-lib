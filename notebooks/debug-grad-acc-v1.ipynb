{
 "cells": [
  {
   "cell_type": "code",
   "execution_count": 1,
   "metadata": {},
   "outputs": [],
   "source": [
    "from lib.Tensor import Tensor\n",
    "import numpy as np"
   ]
  },
  {
   "cell_type": "code",
   "execution_count": 5,
   "metadata": {},
   "outputs": [],
   "source": [
    "v1 = Tensor([1, 2, 3, 4], requires_grad=True)\n",
    "s1 = Tensor(2, requires_grad=True)\n",
    "\n",
    "v2 = v1 ** s1"
   ]
  },
  {
   "cell_type": "code",
   "execution_count": 6,
   "metadata": {},
   "outputs": [
    {
     "data": {
      "text/plain": [
       "Tensor([ 1.  4.  9. 16.], requires_grad=True)"
      ]
     },
     "execution_count": 6,
     "metadata": {},
     "output_type": "execute_result"
    }
   ],
   "source": [
    "v2"
   ]
  },
  {
   "cell_type": "code",
   "execution_count": 7,
   "metadata": {},
   "outputs": [
    {
     "name": "stdout",
     "output_type": "stream",
     "text": [
      "Grad: [1. 1. 1. 1.]\n",
      "Self.grad: [0. 0. 0. 0.]\n",
      "Grad: [2. 4. 6. 8.]\n",
      "Self.grad: [0. 0. 0. 0.]\n",
      "Grad: [ 0.          2.77258872  9.8875106  22.18070978]\n",
      "Self.grad: 0.0\n"
     ]
    }
   ],
   "source": [
    "v2.backward()"
   ]
  },
  {
   "cell_type": "code",
   "execution_count": 11,
   "metadata": {},
   "outputs": [
    {
     "name": "stdout",
     "output_type": "stream",
     "text": [
      "v1 = Tensor([1. 2. 3. 4.], requires_grad=True), v1.grad = [2. 4. 6. 8.]\n",
      "s1 = Tensor(2.0, requires_grad=True), s1.grad = [ 0.          2.77258872  9.8875106  22.18070978]\n",
      "v2 = Tensor([ 1.  4.  9. 16.], requires_grad=True), v2.grad = [1. 1. 1. 1.]\n"
     ]
    }
   ],
   "source": [
    "print(f\"v1 = {v1}, v1.grad = {v1.grad}\")\n",
    "print(f\"s1 = {s1}, s1.grad = {s1.grad}\")\n",
    "print(f\"v2 = {v2}, v2.grad = {v2.grad}\")"
   ]
  },
  {
   "cell_type": "code",
   "execution_count": 12,
   "metadata": {},
   "outputs": [],
   "source": [
    "v3 = v2.sum()"
   ]
  },
  {
   "cell_type": "code",
   "execution_count": 14,
   "metadata": {},
   "outputs": [
    {
     "data": {
      "text/plain": [
       "Tensor(30.0, requires_grad=True)"
      ]
     },
     "execution_count": 14,
     "metadata": {},
     "output_type": "execute_result"
    }
   ],
   "source": [
    "v3"
   ]
  },
  {
   "cell_type": "code",
   "execution_count": 15,
   "metadata": {},
   "outputs": [
    {
     "name": "stdout",
     "output_type": "stream",
     "text": [
      "Grad: 1.0\n",
      "Self.grad: 0.0\n",
      "Im in the backward_sum function now\n",
      "self.grad: 1.0\n",
      "self.data: 30.0\n",
      "self.grad * np.ones_like(self.data): 1.0\n",
      "Grad: 1.0\n",
      "Self.grad: [1. 1. 1. 1.]\n",
      "Grad: [ 4.  8. 12. 16.]\n",
      "Self.grad: [2. 4. 6. 8.]\n",
      "Grad: [ 0.          5.54517744 19.7750212  44.36141956]\n",
      "Self.grad: [ 0.          2.77258872  9.8875106  22.18070978]\n"
     ]
    }
   ],
   "source": [
    "v3.backward()"
   ]
  },
  {
   "cell_type": "code",
   "execution_count": 16,
   "metadata": {},
   "outputs": [],
   "source": [
    "from typing import Union\n",
    "def _process_data(self, data: Union[int, float, np.ndarray]) -> np.ndarray:\n",
    "    allowed_types = {int, float, np.ndarray}\n",
    "    if not isinstance(data, *allowed_types):\n",
    "        raise TypeError(f\"Data must be one of {allowed_types}\")\n",
    "    if isinstance(data, np.ndarray):\n",
    "        return data\n",
    "    else:\n",
    "        return np.array(data)"
   ]
  },
  {
   "cell_type": "code",
   "execution_count": 26,
   "metadata": {},
   "outputs": [
    {
     "ename": "TypeError",
     "evalue": "Data must be one of (<class 'float'>, <class 'int'>, <class 'numpy.ndarray'>)",
     "output_type": "error",
     "traceback": [
      "\u001b[0;31m---------------------------------------------------------------------------\u001b[0m",
      "\u001b[0;31mTypeError\u001b[0m                                 Traceback (most recent call last)",
      "Cell \u001b[0;32mIn[26], line 3\u001b[0m\n\u001b[1;32m      1\u001b[0m allowed_types \u001b[39m=\u001b[39m \u001b[39mtuple\u001b[39m({\u001b[39mint\u001b[39m, \u001b[39mfloat\u001b[39m, np\u001b[39m.\u001b[39mndarray})\n\u001b[1;32m      2\u001b[0m \u001b[39mif\u001b[39;00m \u001b[39mnot\u001b[39;00m \u001b[39misinstance\u001b[39m(\u001b[39m\"\u001b[39m\u001b[39ml\u001b[39m\u001b[39m\"\u001b[39m, allowed_types):\n\u001b[0;32m----> 3\u001b[0m     \u001b[39mraise\u001b[39;00m \u001b[39mTypeError\u001b[39;00m(\u001b[39mf\u001b[39m\u001b[39m\"\u001b[39m\u001b[39mData must be one of \u001b[39m\u001b[39m{\u001b[39;00mallowed_types\u001b[39m}\u001b[39;00m\u001b[39m\"\u001b[39m)\n",
      "\u001b[0;31mTypeError\u001b[0m: Data must be one of (<class 'float'>, <class 'int'>, <class 'numpy.ndarray'>)"
     ]
    }
   ],
   "source": [
    "allowed_types = tuple({int, float, np.ndarray})\n",
    "if not isinstance(\"l\", allowed_types):\n",
    "    raise TypeError(f\"Data must be one of {allowed_types}\")"
   ]
  },
  {
   "cell_type": "code",
   "execution_count": 27,
   "metadata": {},
   "outputs": [
    {
     "name": "stdout",
     "output_type": "stream",
     "text": [
      "(<class 'float'>, <class 'int'>, <class 'numpy.ndarray'>)\n"
     ]
    }
   ],
   "source": [
    "print(allowed_types)"
   ]
  }
 ],
 "metadata": {
  "kernelspec": {
   "display_name": "venv",
   "language": "python",
   "name": "python3"
  },
  "language_info": {
   "codemirror_mode": {
    "name": "ipython",
    "version": 3
   },
   "file_extension": ".py",
   "mimetype": "text/x-python",
   "name": "python",
   "nbconvert_exporter": "python",
   "pygments_lexer": "ipython3",
   "version": "3.10.0"
  },
  "orig_nbformat": 4
 },
 "nbformat": 4,
 "nbformat_minor": 2
}
