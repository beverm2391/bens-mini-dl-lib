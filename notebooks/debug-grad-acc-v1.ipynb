{
 "cells": [
  {
   "cell_type": "code",
   "execution_count": 1,
   "metadata": {},
   "outputs": [],
   "source": [
    "from lib.Tensor import Tensor\n",
    "import numpy as np"
   ]
  },
  {
   "cell_type": "code",
   "execution_count": 5,
   "metadata": {},
   "outputs": [],
   "source": [
    "v1 = Tensor([1, 2, 3, 4], requires_grad=True)\n",
    "s1 = Tensor(2, requires_grad=True)\n",
    "\n",
    "v2 = v1 ** s1"
   ]
  },
  {
   "cell_type": "code",
   "execution_count": 6,
   "metadata": {},
   "outputs": [
    {
     "data": {
      "text/plain": [
       "Tensor([ 1.  4.  9. 16.], requires_grad=True)"
      ]
     },
     "execution_count": 6,
     "metadata": {},
     "output_type": "execute_result"
    }
   ],
   "source": [
    "v2"
   ]
  },
  {
   "cell_type": "code",
   "execution_count": 7,
   "metadata": {},
   "outputs": [
    {
     "name": "stdout",
     "output_type": "stream",
     "text": [
      "Grad: [1. 1. 1. 1.]\n",
      "Self.grad: [0. 0. 0. 0.]\n",
      "Grad: [2. 4. 6. 8.]\n",
      "Self.grad: [0. 0. 0. 0.]\n",
      "Grad: [ 0.          2.77258872  9.8875106  22.18070978]\n",
      "Self.grad: 0.0\n"
     ]
    }
   ],
   "source": [
    "v2.backward()"
   ]
  },
  {
   "cell_type": "code",
   "execution_count": 11,
   "metadata": {},
   "outputs": [
    {
     "name": "stdout",
     "output_type": "stream",
     "text": [
      "v1 = Tensor([1. 2. 3. 4.], requires_grad=True), v1.grad = [2. 4. 6. 8.]\n",
      "s1 = Tensor(2.0, requires_grad=True), s1.grad = [ 0.          2.77258872  9.8875106  22.18070978]\n",
      "v2 = Tensor([ 1.  4.  9. 16.], requires_grad=True), v2.grad = [1. 1. 1. 1.]\n"
     ]
    }
   ],
   "source": [
    "print(f\"v1 = {v1}, v1.grad = {v1.grad}\")\n",
    "print(f\"s1 = {s1}, s1.grad = {s1.grad}\")\n",
    "print(f\"v2 = {v2}, v2.grad = {v2.grad}\")"
   ]
  }
 ],
 "metadata": {
  "kernelspec": {
   "display_name": "venv",
   "language": "python",
   "name": "python3"
  },
  "language_info": {
   "codemirror_mode": {
    "name": "ipython",
    "version": 3
   },
   "file_extension": ".py",
   "mimetype": "text/x-python",
   "name": "python",
   "nbconvert_exporter": "python",
   "pygments_lexer": "ipython3",
   "version": "3.10.0"
  },
  "orig_nbformat": 4
 },
 "nbformat": 4,
 "nbformat_minor": 2
}
