{
 "cells": [
  {
   "cell_type": "code",
   "execution_count": 1,
   "metadata": {},
   "outputs": [],
   "source": [
    "import numpy as np\n",
    "import torch\n",
    "\n",
    "from lib.Tensor import Tensor"
   ]
  },
  {
   "cell_type": "code",
   "execution_count": 2,
   "metadata": {},
   "outputs": [],
   "source": [
    "data1, data2 = np.random.randn(2, 3), np.random.randn(2, 3) # random data\n",
    "\n",
    "# ! Custom Tensor class\n",
    "t1 = Tensor(data1, requires_grad=True) # init\n",
    "t2 = Tensor(data2, requires_grad=True) # init\n",
    "pt1 = torch.Tensor(data1).double().requires_grad_(True) # pytorch\n",
    "pt2 = torch.Tensor(data2).double().requires_grad_(True) # pytorch\n",
    "\n",
    "def ops(a, b):\n",
    "    c = a * b\n",
    "    return c.sum()\n",
    "\n",
    "def ops_2(a, b):\n",
    "    # ! THIS FAILS\n",
    "    c = a + b # add, radd\n",
    "    d = c - b # sub, rsub\n",
    "    e = c * 2 # mul scalar\n",
    "    x = d * e # mul tensor (elementwise)\n",
    "    return x.sum()"
   ]
  },
  {
   "cell_type": "code",
   "execution_count": 3,
   "metadata": {},
   "outputs": [],
   "source": [
    "result1 = ops_2(t1, t2)\n",
    "result2 = ops_2(pt1, pt2)"
   ]
  },
  {
   "cell_type": "code",
   "execution_count": 4,
   "metadata": {},
   "outputs": [],
   "source": [
    "result1.backward()\n",
    "result2.backward()"
   ]
  },
  {
   "cell_type": "code",
   "execution_count": 5,
   "metadata": {},
   "outputs": [],
   "source": [
    "def check_tol(t1, t2, pt1, pt2):\n",
    "    tols = [1e-10, 1e-8, 1e-6, 1e-4, 1e-2]\n",
    "    for tol in tols:\n",
    "        print(f\"tol: {tol}\")\n",
    "        print(np.allclose(t1.grad, pt1.grad.numpy(), atol=tol))\n",
    "        print(np.allclose(t2.grad, pt2.grad.numpy(), atol=tol))"
   ]
  },
  {
   "cell_type": "code",
   "execution_count": 6,
   "metadata": {},
   "outputs": [
    {
     "name": "stdout",
     "output_type": "stream",
     "text": [
      "t1 grad [[11.22844024 -0.59016627  5.79351045]\n",
      " [ 3.7700739   3.36832697 -4.32833888]]\n",
      "pt1 grad [[ 7.19164854 -0.12214404  4.16472638]\n",
      " [ 2.18861103  1.28201962 -2.95289603]]\n",
      "t2 grad [[ 7.1916486  -0.12214406  4.16472655]\n",
      " [ 2.18861101  1.28201964 -2.952896  ]]\n",
      "pt2 grad [[ 3.15485692  0.34587815  2.53594255]\n",
      " [ 0.60714811 -0.80428767 -1.57745314]]\n"
     ]
    }
   ],
   "source": [
    "print(f\"t1 grad {t1.grad}\")\n",
    "print(f\"pt1 grad {pt1.grad.numpy()}\")\n",
    "print(f\"t2 grad {t2.grad}\") \n",
    "print(f\"pt2 grad {pt2.grad.numpy()}\")"
   ]
  },
  {
   "cell_type": "code",
   "execution_count": 47,
   "metadata": {},
   "outputs": [
    {
     "name": "stdout",
     "output_type": "stream",
     "text": [
      "tol: 1e-10\n",
      "True\n",
      "True\n",
      "tol: 1e-08\n",
      "True\n",
      "True\n",
      "tol: 1e-06\n",
      "True\n",
      "True\n",
      "tol: 0.0001\n",
      "True\n",
      "True\n",
      "tol: 0.01\n",
      "True\n",
      "True\n"
     ]
    }
   ],
   "source": [
    "check_tol(t1, t2, pt1, pt2)"
   ]
  },
  {
   "cell_type": "code",
   "execution_count": 53,
   "metadata": {},
   "outputs": [
    {
     "name": "stdout",
     "output_type": "stream",
     "text": [
      "t1 grad [[ 0.25706986 -2.53289069 -8.23273654]\n",
      " [ 0.53637653 -4.95895261  2.1283796 ]]\n",
      "pt1 grad [[-0.81876063 -1.04067016 -5.24569333]\n",
      " [ 0.18049803 -3.24273695  1.55202657]]\n",
      "t2 grad [[-0.81876055 -1.04067013 -5.24569314]\n",
      " [ 0.18049802 -3.24273697  1.55202658]]\n",
      "pt2 grad [[-1.89459097  0.45155042 -2.25864983]\n",
      " [-0.17538048 -1.52652133  0.97567356]]\n"
     ]
    }
   ],
   "source": [
    "result3 = ops_2(t1, t2)\n",
    "result4 = ops_2(pt1, pt2)\n",
    "\n",
    "result3.backward()\n",
    "result4.backward()\n",
    "\n",
    "print(f\"t1 grad {t1.grad}\")\n",
    "print(f\"pt1 grad {pt1.grad.numpy()}\")\n",
    "\n",
    "print(f\"t2 grad {t2.grad}\")\n",
    "print(f\"pt2 grad {pt2.grad.numpy()}\")"
   ]
  }
 ],
 "metadata": {
  "kernelspec": {
   "display_name": "venv",
   "language": "python",
   "name": "python3"
  },
  "language_info": {
   "codemirror_mode": {
    "name": "ipython",
    "version": 3
   },
   "file_extension": ".py",
   "mimetype": "text/x-python",
   "name": "python",
   "nbconvert_exporter": "python",
   "pygments_lexer": "ipython3",
   "version": "3.10.0"
  },
  "orig_nbformat": 4
 },
 "nbformat": 4,
 "nbformat_minor": 2
}
