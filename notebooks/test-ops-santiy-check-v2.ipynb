{
 "cells": [
  {
   "cell_type": "code",
   "execution_count": 19,
   "metadata": {},
   "outputs": [],
   "source": [
    "import numpy as np\n",
    "import torch\n",
    "\n",
    "from lib.Tensor import Tensor"
   ]
  },
  {
   "cell_type": "code",
   "execution_count": 54,
   "metadata": {},
   "outputs": [],
   "source": [
    "data1, data2 = np.random.randn(2, 3), np.random.randn(2, 3) # random data\n",
    "\n",
    "# ! Custom Tensor class\n",
    "t1 = Tensor(data1, requires_grad=True) # init\n",
    "t2 = Tensor(data2, requires_grad=True) # init\n",
    "pt1 = torch.Tensor(data1).double().requires_grad_(True) # pytorch\n",
    "pt2 = torch.Tensor(data2).double().requires_grad_(True) # pytorch\n",
    "\n",
    "def ops(a, b):\n",
    "    c = a * b\n",
    "    return c.sum()\n",
    "\n",
    "def ops_2(a, b):\n",
    "    # ! THIS FAILS\n",
    "    c = a + b # add, radd\n",
    "    d = c - b # sub, rsub\n",
    "    e = c * 2 # mul scalar\n",
    "    x = d * e # mul tensor (elementwise)\n",
    "    return x.sum()"
   ]
  },
  {
   "cell_type": "code",
   "execution_count": 39,
   "metadata": {},
   "outputs": [],
   "source": [
    "result1 = ops(t1, t2)\n",
    "result2 = ops(pt1, pt2)"
   ]
  },
  {
   "cell_type": "code",
   "execution_count": 40,
   "metadata": {},
   "outputs": [],
   "source": [
    "result1.backward()\n",
    "result2.backward()"
   ]
  },
  {
   "cell_type": "code",
   "execution_count": 45,
   "metadata": {},
   "outputs": [],
   "source": [
    "def check_tol(t1, t2, pt1, pt2):\n",
    "    tols = [1e-10, 1e-8, 1e-6, 1e-4, 1e-2]\n",
    "    for tol in tols:\n",
    "        print(f\"tol: {tol}\")\n",
    "        print(np.allclose(t1.grad, pt1.grad.numpy(), atol=tol))\n",
    "        print(np.allclose(t2.grad, pt2.grad.numpy(), atol=tol))"
   ]
  },
  {
   "cell_type": "code",
   "execution_count": 46,
   "metadata": {},
   "outputs": [
    {
     "name": "stdout",
     "output_type": "stream",
     "text": [
      "t1 grad [[-1.37240982 -1.26545133  1.96119259]\n",
      " [ 0.16582696 -1.53786034  0.61533814]]\n",
      "pt1 grad [[-1.37240982 -1.26545131  1.96119261]\n",
      " [ 0.16582696 -1.53786039  0.61533815]]\n",
      "t2 grad [[ 1.20716919 -1.57160246  0.36859056]\n",
      " [ 0.19955592 -0.35067234 -0.56818483]]\n",
      "pt2 grad [[ 1.20716918 -1.57160246  0.36859056]\n",
      " [ 0.19955592 -0.35067233 -0.56818485]]\n"
     ]
    }
   ],
   "source": [
    "print(f\"t1 grad {t1.grad}\")\n",
    "print(f\"pt1 grad {pt1.grad.numpy()}\")\n",
    "print(f\"t2 grad {t2.grad}\") \n",
    "print(f\"pt2 grad {pt2.grad.numpy()}\")"
   ]
  },
  {
   "cell_type": "code",
   "execution_count": 47,
   "metadata": {},
   "outputs": [
    {
     "name": "stdout",
     "output_type": "stream",
     "text": [
      "tol: 1e-10\n",
      "True\n",
      "True\n",
      "tol: 1e-08\n",
      "True\n",
      "True\n",
      "tol: 1e-06\n",
      "True\n",
      "True\n",
      "tol: 0.0001\n",
      "True\n",
      "True\n",
      "tol: 0.01\n",
      "True\n",
      "True\n"
     ]
    }
   ],
   "source": [
    "check_tol(t1, t2, pt1, pt2)"
   ]
  },
  {
   "cell_type": "code",
   "execution_count": 53,
   "metadata": {},
   "outputs": [
    {
     "name": "stdout",
     "output_type": "stream",
     "text": [
      "t1 grad [[ 0.25706986 -2.53289069 -8.23273654]\n",
      " [ 0.53637653 -4.95895261  2.1283796 ]]\n",
      "pt1 grad [[-0.81876063 -1.04067016 -5.24569333]\n",
      " [ 0.18049803 -3.24273695  1.55202657]]\n",
      "t2 grad [[-0.81876055 -1.04067013 -5.24569314]\n",
      " [ 0.18049802 -3.24273697  1.55202658]]\n",
      "pt2 grad [[-1.89459097  0.45155042 -2.25864983]\n",
      " [-0.17538048 -1.52652133  0.97567356]]\n"
     ]
    }
   ],
   "source": [
    "result3 = ops_2(t1, t2)\n",
    "result4 = ops_2(pt1, pt2)\n",
    "\n",
    "result3.backward()\n",
    "result4.backward()\n",
    "\n",
    "print(f\"t1 grad {t1.grad}\")\n",
    "print(f\"pt1 grad {pt1.grad.numpy()}\")\n",
    "\n",
    "print(f\"t2 grad {t2.grad}\")\n",
    "print(f\"pt2 grad {pt2.grad.numpy()}\")"
   ]
  }
 ],
 "metadata": {
  "kernelspec": {
   "display_name": "venv",
   "language": "python",
   "name": "python3"
  },
  "language_info": {
   "codemirror_mode": {
    "name": "ipython",
    "version": 3
   },
   "file_extension": ".py",
   "mimetype": "text/x-python",
   "name": "python",
   "nbconvert_exporter": "python",
   "pygments_lexer": "ipython3",
   "version": "3.10.0"
  },
  "orig_nbformat": 4
 },
 "nbformat": 4,
 "nbformat_minor": 2
}
