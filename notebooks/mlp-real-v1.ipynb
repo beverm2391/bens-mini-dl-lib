{
 "cells": [
  {
   "cell_type": "code",
   "execution_count": 61,
   "metadata": {},
   "outputs": [],
   "source": [
    "import numpy as np\n",
    "import pandas as pd\n",
    "from sklearn.model_selection import train_test_split\n",
    "\n",
    "import lib.Tensor as T # module\n",
    "from lib.Tensor import Tensor # main tensor class\n",
    "from lib.NN import Sequential, Dense, ReLU, MSELoss\n",
    "from lib.Optimizers import SGD"
   ]
  },
  {
   "cell_type": "markdown",
   "metadata": {},
   "source": [
    "## Data"
   ]
  },
  {
   "cell_type": "code",
   "execution_count": 35,
   "metadata": {},
   "outputs": [],
   "source": [
    "data = pd.read_csv('../data/iris.csv')"
   ]
  },
  {
   "cell_type": "code",
   "execution_count": 36,
   "metadata": {},
   "outputs": [],
   "source": [
    "data.set_index('Id', inplace=True)"
   ]
  },
  {
   "cell_type": "code",
   "execution_count": 42,
   "metadata": {},
   "outputs": [],
   "source": [
    "data.loc[:, 'Species_enc'] = data.loc[:, 'Species'].factorize()[0] # dont set the 'Species' column because it will retain Object type"
   ]
  },
  {
   "cell_type": "code",
   "execution_count": 48,
   "metadata": {},
   "outputs": [],
   "source": [
    "data.drop('Species', axis=1, inplace=True)"
   ]
  },
  {
   "cell_type": "code",
   "execution_count": 49,
   "metadata": {},
   "outputs": [],
   "source": [
    "x = data.drop('Species_enc', axis=1).values\n",
    "y = data['Species_enc'].to_numpy()\n",
    "x_train, x_test, y_train, y_test = train_test_split(x, y, test_size=0.2, random_state=12)\n",
    "\n",
    "x_train_tensor = Tensor(x_train, requires_grad=True)\n",
    "x_test_tensor = Tensor(x_test, requires_grad=True)\n",
    "y_train_tensor = Tensor(y_train, requires_grad=True)\n",
    "y_test_tensor = Tensor(y_test, requires_grad=True)"
   ]
  },
  {
   "cell_type": "code",
   "execution_count": 50,
   "metadata": {},
   "outputs": [
    {
     "name": "stdout",
     "output_type": "stream",
     "text": [
      "float64\n",
      "float64\n",
      "int64\n",
      "int64\n",
      "float64\n",
      "float64\n",
      "int64\n",
      "int64\n"
     ]
    }
   ],
   "source": [
    "for item in [x_train, x_test, y_train, y_test]:\n",
    "    print(item.dtype)\n",
    "for item in [x_train_tensor, x_test_tensor, y_train_tensor, y_test_tensor]:\n",
    "    print(item.dtype)"
   ]
  },
  {
   "cell_type": "code",
   "execution_count": 57,
   "metadata": {},
   "outputs": [],
   "source": [
    "if y_train_tensor.ndim == 1:\n",
    "    y_train_tensor = y_train_tensor.reshape(-1, 1)\n",
    "if y_test_tensor.ndim == 1:\n",
    "    y_test_tensor = y_test_tensor.reshape(-1, 1)"
   ]
  },
  {
   "cell_type": "markdown",
   "metadata": {},
   "source": [
    "## Model"
   ]
  },
  {
   "cell_type": "code",
   "execution_count": 72,
   "metadata": {},
   "outputs": [],
   "source": [
    "model = Sequential(\n",
    "    Dense(4, 10),\n",
    "    ReLU(),\n",
    "    Dense(10, 4)\n",
    ")\n",
    "\n",
    "type(model)\n",
    "\n",
    "criterion = MSELoss()\n",
    "optimizer = SGD(model.parameters(), lr=0.001)"
   ]
  },
  {
   "cell_type": "code",
   "execution_count": 73,
   "metadata": {},
   "outputs": [
    {
     "name": "stdout",
     "output_type": "stream",
     "text": [
      "Epoch: 100 Train Loss: 1.5920 Test Loss: 1.3968\n",
      "Epoch: 200 Train Loss: 1.4318 Test Loss: 1.2558\n",
      "Epoch: 300 Train Loss: 1.0991 Test Loss: 0.9645\n",
      "Epoch: 400 Train Loss: 0.6223 Test Loss: 0.5683\n",
      "Epoch: 500 Train Loss: 0.4180 Test Loss: 0.4264\n",
      "Epoch: 600 Train Loss: 0.3793 Test Loss: 0.4067\n",
      "Epoch: 700 Train Loss: 0.3592 Test Loss: 0.3901\n",
      "Epoch: 800 Train Loss: 0.3401 Test Loss: 0.3710\n",
      "Epoch: 900 Train Loss: 0.3211 Test Loss: 0.3511\n",
      "Epoch: 1000 Train Loss: 0.3020 Test Loss: 0.3309\n",
      "Epoch: 1100 Train Loss: 0.2829 Test Loss: 0.3105\n",
      "Epoch: 1200 Train Loss: 0.2637 Test Loss: 0.2900\n",
      "Epoch: 1300 Train Loss: 0.2445 Test Loss: 0.2694\n",
      "Epoch: 1400 Train Loss: 0.2256 Test Loss: 0.2490\n",
      "Epoch: 1500 Train Loss: 0.2070 Test Loss: 0.2288\n",
      "Epoch: 1600 Train Loss: 0.1890 Test Loss: 0.2092\n",
      "Epoch: 1700 Train Loss: 0.1718 Test Loss: 0.1904\n",
      "Epoch: 1800 Train Loss: 0.1556 Test Loss: 0.1726\n",
      "Epoch: 1900 Train Loss: 0.1406 Test Loss: 0.1561\n",
      "Epoch: 2000 Train Loss: 0.1270 Test Loss: 0.1410\n",
      "Epoch: 2100 Train Loss: 0.1148 Test Loss: 0.1275\n",
      "Epoch: 2200 Train Loss: 0.1041 Test Loss: 0.1156\n",
      "Epoch: 2300 Train Loss: 0.0949 Test Loss: 0.1052\n",
      "Epoch: 2400 Train Loss: 0.0871 Test Loss: 0.0965\n",
      "Epoch: 2500 Train Loss: 0.0808 Test Loss: 0.0893\n",
      "Epoch: 2600 Train Loss: 0.0757 Test Loss: 0.0833\n",
      "Epoch: 2700 Train Loss: 0.0716 Test Loss: 0.0786\n",
      "Epoch: 2800 Train Loss: 0.0684 Test Loss: 0.0749\n",
      "Epoch: 2900 Train Loss: 0.0659 Test Loss: 0.0720\n",
      "Epoch: 3000 Train Loss: 0.0640 Test Loss: 0.0697\n"
     ]
    }
   ],
   "source": [
    "epochs = 3000\n",
    "running_train_loss = []\n",
    "running_test_loss = []\n",
    "\n",
    "for epoch in range(1, epochs+1):\n",
    "    model.train()\n",
    "    y_pred = model(x_train_tensor)\n",
    "\n",
    "    loss = criterion(y_pred, y_train_tensor)\n",
    "    loss.backward()\n",
    "    optimizer.step()\n",
    "    optimizer.zero_grad()\n",
    "\n",
    "    running_train_loss.append(loss.data)\n",
    "\n",
    "    with T.no_grad():\n",
    "        model.eval()\n",
    "        y_pred = model(x_test_tensor)\n",
    "        if y_test.ndim == 1:\n",
    "            y_test = y_test.reshape(-1, 1)\n",
    "        loss = criterion(y_pred, y_test_tensor)\n",
    "        running_test_loss.append(loss.data)\n",
    "\n",
    "    if epoch % 100 == 0:\n",
    "        print(f'Epoch: {epoch} Train Loss: {running_train_loss[-1]:.04f} Val Loss: {running_test_loss[-1]:.04f}')"
   ]
  },
  {
   "cell_type": "code",
   "execution_count": 74,
   "metadata": {},
   "outputs": [
    {
     "data": {
      "image/png": "[encoded data removed]",
      "text/plain": [
       "<Figure size 640x480 with 1 Axes>"
      ]
     },
     "metadata": {},
     "output_type": "display_data"
    }
   ],
   "source": [
    "import matplotlib.pyplot as plt\n",
    "\n",
    "plt.plot(running_train_loss, label='Train Loss')\n",
    "plt.plot(running_test_loss, label='Test Loss')\n",
    "plt.legend()\n",
    "plt.show()"
   ]
  }
 ],
 "metadata": {
  "kernelspec": {
   "display_name": "venv",
   "language": "python",
   "name": "python3"
  },
  "language_info": {
   "codemirror_mode": {
    "name": "ipython",
    "version": 3
   },
   "file_extension": ".py",
   "mimetype": "text/x-python",
   "name": "python",
   "nbconvert_exporter": "python",
   "pygments_lexer": "ipython3",
   "version": "3.10.0"
  },
  "orig_nbformat": 4
 },
 "nbformat": 4,
 "nbformat_minor": 2
}
