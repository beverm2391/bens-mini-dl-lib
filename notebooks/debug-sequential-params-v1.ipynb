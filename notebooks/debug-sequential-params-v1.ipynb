{
 "cells": [
  {
   "cell_type": "code",
   "execution_count": 1,
   "metadata": {},
   "outputs": [],
   "source": [
    "from lib.NN import Sequential, Dense, ReLU"
   ]
  },
  {
   "cell_type": "code",
   "execution_count": 5,
   "metadata": {},
   "outputs": [
    {
     "data": {
      "text/plain": [
       "[Tensor([[-0.01711961 -0.00927426  0.00472026]\n",
       "  [-0.0037094  -0.0036287   0.01540635]\n",
       "  [-0.00129922 -0.00615952 -0.00718212]\n",
       "  [-0.00547005 -0.00231869 -0.00190967]], requires_grad=True),\n",
       " Tensor([0. 0. 0. 0.], requires_grad=True),\n",
       " Tensor([[ 0.00769347 -0.0052085  -0.00810626 -0.01401212]\n",
       "  [ 0.01748344 -0.00593537 -0.01516913  0.0061027 ]], requires_grad=True),\n",
       " Tensor([0. 0.], requires_grad=True)]"
      ]
     },
     "execution_count": 5,
     "metadata": {},
     "output_type": "execute_result"
    }
   ],
   "source": [
    "model = Sequential(\n",
    "    Dense(3, 4),\n",
    "    ReLU(),\n",
    "    Dense(4, 2)\n",
    ")\n",
    "\n",
    "model.parameters()"
   ]
  }
 ],
 "metadata": {
  "kernelspec": {
   "display_name": "venv",
   "language": "python",
   "name": "python3"
  },
  "language_info": {
   "codemirror_mode": {
    "name": "ipython",
    "version": 3
   },
   "file_extension": ".py",
   "mimetype": "text/x-python",
   "name": "python",
   "nbconvert_exporter": "python",
   "pygments_lexer": "ipython3",
   "version": "3.10.0"
  },
  "orig_nbformat": 4
 },
 "nbformat": 4,
 "nbformat_minor": 2
}
