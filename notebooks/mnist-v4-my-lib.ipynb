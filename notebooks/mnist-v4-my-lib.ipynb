{
 "cells": [
  {
   "cell_type": "code",
   "execution_count": 1,
   "metadata": {},
   "outputs": [],
   "source": [
    "import math\n",
    "from time import perf_counter\n",
    "import numpy as np\n",
    "\n",
    "from lib.Tensor import Tensor, no_grad\n",
    "from lib.NN import ReLU, Dense, Module, CategoricalCrossEntropyLoss, MSELoss, MLP\n",
    "from lib.Optimizers import SGD\n",
    "from lib.data_utils import get_mnist\n",
    "from lib.dataloader import SimpleDataLoader"
   ]
  },
  {
   "cell_type": "code",
   "execution_count": 2,
   "metadata": {},
   "outputs": [],
   "source": [
    "path = \"/Users/beneverman/Documents/Coding/bens-mini-dl/data\"\n",
    "x_train, y_train, x_valid, y_valid = get_mnist(path)"
   ]
  },
  {
   "cell_type": "code",
   "execution_count": 3,
   "metadata": {},
   "outputs": [
    {
     "name": "stdout",
     "output_type": "stream",
     "text": [
      "(50000, 784)\n",
      "(50000,)\n",
      "(10000, 784)\n",
      "(10000,)\n"
     ]
    }
   ],
   "source": [
    "print(x_train.shape) # (n images, n pixels)\n",
    "print(y_train.shape) # (class labels,)\n",
    "\n",
    "print(x_valid.shape) # (n images, n pixels)\n",
    "print(y_valid.shape) # (class labels,)\n",
    "\n",
    "input_dim = x_train.shape[1] # number of features (pixels)\n",
    "output_dim = len(set(y_train)) # all unique class labels\n",
    "\n",
    "x_train_tensor, y_train_tensor = Tensor(x_train, requires_grad=False), Tensor(y_train, requires_grad=False)\n",
    "x_valid_tensor, y_valid_tensor = Tensor(x_valid, requires_grad=False), Tensor(y_valid, requires_grad=False)"
   ]
  },
  {
   "cell_type": "code",
   "execution_count": 4,
   "metadata": {},
   "outputs": [],
   "source": [
    "train_loader = SimpleDataLoader(x_train, y_train, batch_size=64, shuffle=True)\n",
    "test_loader = SimpleDataLoader(x_valid, y_valid, batch_size=64, shuffle=False)"
   ]
  },
  {
   "cell_type": "code",
   "execution_count": 5,
   "metadata": {},
   "outputs": [],
   "source": [
    "class MLP(Module):\n",
    "    def __init__(self, input_dim: int, output_dim: int):\n",
    "        super().__init__()\n",
    "        self.fc1 = Dense(input_dim, 64)\n",
    "        self.relu1 = ReLU()\n",
    "        self.fc2 = Dense(64, output_dim)\n",
    "\n",
    "    def forward(self, x):   \n",
    "        x = self.fc1(x)\n",
    "        x = self.relu1(x)\n",
    "        x = self.fc2(x)\n",
    "        return x"
   ]
  },
  {
   "cell_type": "code",
   "execution_count": 6,
   "metadata": {},
   "outputs": [],
   "source": [
    "model = MLP(input_dim, output_dim)\n",
    "\n",
    "EPOCHS = 20\n",
    "STEPS = 100 # num of batches per epoch\n",
    "BATCH_SIZE = 64\n",
    "max_batches_per_epoch = math.ceil(len(x_train) / BATCH_SIZE) # handle smaller last batch"
   ]
  },
  {
   "cell_type": "code",
   "execution_count": 7,
   "metadata": {},
   "outputs": [],
   "source": [
    "criterion = CategoricalCrossEntropyLoss()\n",
    "optimizer = SGD(model.parameters(), lr=0.001)"
   ]
  },
  {
   "cell_type": "code",
   "execution_count": 10,
   "metadata": {},
   "outputs": [
    {
     "name": "stdout",
     "output_type": "stream",
     "text": [
      "False\n",
      "False\n",
      "Creation_op NLLLoss, shape ()\n",
      "Creation_op getitem, shape (64,)\n"
     ]
    },
    {
     "ename": "TypeError",
     "evalue": "'NoneType' object is not subscriptable",
     "output_type": "error",
     "traceback": [
      "\u001b[0;31m---------------------------------------------------------------------------\u001b[0m",
      "\u001b[0;31mTypeError\u001b[0m                                 Traceback (most recent call last)",
      "\u001b[1;32m/Users/beneverman/Documents/Coding/bens-mini-dl/notebooks/mnist-v4-my-lib.ipynb Cell 8\u001b[0m line \u001b[0;36m2\n\u001b[1;32m     <a href='vscode-notebook-cell:/Users/beneverman/Documents/Coding/bens-mini-dl/notebooks/mnist-v4-my-lib.ipynb#X10sZmlsZQ%3D%3D?line=19'>20</a>\u001b[0m out \u001b[39m=\u001b[39m model(batch) \u001b[39m# forward pass\u001b[39;00m\n\u001b[1;32m     <a href='vscode-notebook-cell:/Users/beneverman/Documents/Coding/bens-mini-dl/notebooks/mnist-v4-my-lib.ipynb#X10sZmlsZQ%3D%3D?line=20'>21</a>\u001b[0m loss \u001b[39m=\u001b[39m criterion(out, labels) \u001b[39m# calculate loss\u001b[39;00m\n\u001b[0;32m---> <a href='vscode-notebook-cell:/Users/beneverman/Documents/Coding/bens-mini-dl/notebooks/mnist-v4-my-lib.ipynb#X10sZmlsZQ%3D%3D?line=22'>23</a>\u001b[0m loss\u001b[39m.\u001b[39;49mbackward() \u001b[39m# backprop\u001b[39;00m\n\u001b[1;32m     <a href='vscode-notebook-cell:/Users/beneverman/Documents/Coding/bens-mini-dl/notebooks/mnist-v4-my-lib.ipynb#X10sZmlsZQ%3D%3D?line=23'>24</a>\u001b[0m optimizer\u001b[39m.\u001b[39mstep() \u001b[39m# update params\u001b[39;00m\n\u001b[1;32m     <a href='vscode-notebook-cell:/Users/beneverman/Documents/Coding/bens-mini-dl/notebooks/mnist-v4-my-lib.ipynb#X10sZmlsZQ%3D%3D?line=25'>26</a>\u001b[0m running_train_loss \u001b[39m+\u001b[39m\u001b[39m=\u001b[39m loss\u001b[39m.\u001b[39mdata \u001b[39m# add loss to running total\u001b[39;00m\n",
      "File \u001b[0;32m~/Documents/Coding/bens-mini-dl/lib/Tensor.py:129\u001b[0m, in \u001b[0;36mTensor.backward\u001b[0;34m(self)\u001b[0m\n\u001b[1;32m    127\u001b[0m \u001b[39mprint\u001b[39m(\u001b[39mf\u001b[39m\u001b[39m\"\u001b[39m\u001b[39mCreation_op \u001b[39m\u001b[39m{\u001b[39;00mv\u001b[39m.\u001b[39m_op\u001b[39m}\u001b[39;00m\u001b[39m, shape \u001b[39m\u001b[39m{\u001b[39;00mv\u001b[39m.\u001b[39mdata\u001b[39m.\u001b[39mshape\u001b[39m}\u001b[39;00m\u001b[39m\"\u001b[39m) \u001b[39m# ? Debug\u001b[39;00m\n\u001b[1;32m    128\u001b[0m \u001b[39mif\u001b[39;00m \u001b[39mhasattr\u001b[39m(v, \u001b[39m'\u001b[39m\u001b[39m_backward\u001b[39m\u001b[39m'\u001b[39m): \u001b[39m# handle no_grad context manager, even though we technically don't need to because we set the backward method to a no-op `lambda: None`. I've learned that it's better to be safe than sorry\u001b[39;00m\n\u001b[0;32m--> 129\u001b[0m     v\u001b[39m.\u001b[39;49m_backward()\n",
      "File \u001b[0;32m~/Documents/Coding/bens-mini-dl/lib/Tensor.py:573\u001b[0m, in \u001b[0;36mTensor.__getitem__.<locals>._backward\u001b[0;34m()\u001b[0m\n\u001b[1;32m    569\u001b[0m \u001b[39mdef\u001b[39;00m \u001b[39m_backward\u001b[39m():\n\u001b[1;32m    570\u001b[0m \u001b[39m    \u001b[39m\u001b[39m\"\"\"\u001b[39;00m\n\u001b[1;32m    571\u001b[0m \u001b[39m    d/dx (index(x)) = 1\u001b[39;00m\n\u001b[1;32m    572\u001b[0m \u001b[39m    \"\"\"\u001b[39;00m\n\u001b[0;32m--> 573\u001b[0m     \u001b[39mself\u001b[39m\u001b[39m.\u001b[39mgrad[key] \u001b[39m+\u001b[39m\u001b[39m=\u001b[39m out\u001b[39m.\u001b[39mgrad\n",
      "\u001b[0;31mTypeError\u001b[0m: 'NoneType' object is not subscriptable"
     ]
    }
   ],
   "source": [
    "total_time = 0.0\n",
    "steps = min(STEPS, max_batches_per_epoch)\n",
    "for epoch in range(EPOCHS):\n",
    "    start = perf_counter()\n",
    "    running_train_loss = 0.0\n",
    "\n",
    "    for step in range(steps): # for each batch\n",
    "        model.train()\n",
    "        optimizer.zero_grad() # zero gradients\n",
    "\n",
    "        samp = np.random.randint(0, len(x_train), BATCH_SIZE) # get random indices\n",
    "\n",
    "        # get batch and labels\n",
    "        batch = x_train_tensor[samp] # get batch\n",
    "        labels = y_train_tensor[samp] # get labels\n",
    "\n",
    "        print(batch.requires_grad)\n",
    "        print(labels.requires_grad)\n",
    "\n",
    "        out = model(batch) # forward pass\n",
    "        loss = criterion(out, labels) # calculate loss\n",
    "\n",
    "        loss.backward() # backprop\n",
    "        optimizer.step() # update params\n",
    "\n",
    "        running_train_loss += loss.data # add loss to running total\n",
    "    \n",
    "    train_loss = running_train_loss / STEPS # loss over all batches / num batches\n",
    "\n",
    "    model.eval() # set model to eval mode\n",
    "\n",
    "    with no_grad(): # don't track gradients\n",
    "        # test accuracy\n",
    "        out = model(Tensor(x_valid, requires_grad=False)) # forward pass\n",
    "        pred =  np.argmax(out.data, axis=1) # get index of max value\n",
    "        accuracy = (pred == y_valid).mean() # calculate accuracy, no Tensor wrap because comparing arrays directly\n",
    "\n",
    "    elapsed = perf_counter() - start\n",
    "    total_time += elapsed\n",
    "\n",
    "    print(f\"Epoch {epoch+1}/{EPOCHS}: {steps} Batches (max: {max_batches_per_epoch}) | Train Loss: {train_loss:.4f} | Test Accuracy: {accuracy:.4f} | Time: {elapsed:.2f}s\")\n",
    "\n",
    "print(f\"Total training time: {total_time:.2f}s\")"
   ]
  },
  {
   "cell_type": "code",
   "execution_count": null,
   "metadata": {},
   "outputs": [
    {
     "ename": "IndexError",
     "evalue": "only integers, slices (`:`), ellipsis (`...`), numpy.newaxis (`None`) and integer or boolean arrays are valid indices",
     "output_type": "error",
     "traceback": [
      "\u001b[0;31m---------------------------------------------------------------------------\u001b[0m",
      "\u001b[0;31mIndexError\u001b[0m                                Traceback (most recent call last)",
      "\u001b[1;32m/Users/beneverman/Documents/Coding/bens-mini-dl/notebooks/mnist-v4-my-lib.ipynb Cell 9\u001b[0m line \u001b[0;36m4\n\u001b[1;32m      <a href='vscode-notebook-cell:/Users/beneverman/Documents/Coding/bens-mini-dl/notebooks/mnist-v4-my-lib.ipynb#X20sZmlsZQ%3D%3D?line=1'>2</a>\u001b[0m model\u001b[39m.\u001b[39mtrain()\n\u001b[1;32m      <a href='vscode-notebook-cell:/Users/beneverman/Documents/Coding/bens-mini-dl/notebooks/mnist-v4-my-lib.ipynb#X20sZmlsZQ%3D%3D?line=2'>3</a>\u001b[0m running_train_loss \u001b[39m=\u001b[39m \u001b[39m0.0\u001b[39m\n\u001b[0;32m----> <a href='vscode-notebook-cell:/Users/beneverman/Documents/Coding/bens-mini-dl/notebooks/mnist-v4-my-lib.ipynb#X20sZmlsZQ%3D%3D?line=3'>4</a>\u001b[0m \u001b[39mfor\u001b[39;00m x, y \u001b[39min\u001b[39;00m train_loader:\n\u001b[1;32m      <a href='vscode-notebook-cell:/Users/beneverman/Documents/Coding/bens-mini-dl/notebooks/mnist-v4-my-lib.ipynb#X20sZmlsZQ%3D%3D?line=4'>5</a>\u001b[0m     optimizer\u001b[39m.\u001b[39mzero_grad()\n\u001b[1;32m      <a href='vscode-notebook-cell:/Users/beneverman/Documents/Coding/bens-mini-dl/notebooks/mnist-v4-my-lib.ipynb#X20sZmlsZQ%3D%3D?line=5'>6</a>\u001b[0m     out \u001b[39m=\u001b[39m model(x)\n",
      "File \u001b[0;32m~/Documents/Coding/bens-mini-dl/lib/dataloader.py:22\u001b[0m, in \u001b[0;36mSimpleDataLoader.__iter__\u001b[0;34m(self)\u001b[0m\n\u001b[1;32m     19\u001b[0m end_idx \u001b[39m=\u001b[39m \u001b[39mmin\u001b[39m(\u001b[39mself\u001b[39m\u001b[39m.\u001b[39mbatch_size \u001b[39m+\u001b[39m start_idx, xlen)\n\u001b[1;32m     20\u001b[0m batch_indices \u001b[39m=\u001b[39m Tensor(indices[start_idx:end_idx]) \u001b[39m# this has to be tensor because indexing with np.ndarray or list raises error in tinygrad\u001b[39;00m\n\u001b[0;32m---> 22\u001b[0m \u001b[39myield\u001b[39;00m \u001b[39mself\u001b[39;49m\u001b[39m.\u001b[39;49mX[batch_indices], \u001b[39mself\u001b[39m\u001b[39m.\u001b[39mY[batch_indices]\n",
      "File \u001b[0;32m~/Documents/Coding/bens-mini-dl/lib/Tensor.py:567\u001b[0m, in \u001b[0;36mTensor.__getitem__\u001b[0;34m(self, key)\u001b[0m\n\u001b[1;32m    563\u001b[0m \u001b[39mdef\u001b[39;00m \u001b[39m__getitem__\u001b[39m(\u001b[39mself\u001b[39m, key):\n\u001b[1;32m    564\u001b[0m \u001b[39m    \u001b[39m\u001b[39m\"\"\"\u001b[39;00m\n\u001b[1;32m    565\u001b[0m \u001b[39m    Index the tensor\u001b[39;00m\n\u001b[1;32m    566\u001b[0m \u001b[39m    \"\"\"\u001b[39;00m\n\u001b[0;32m--> 567\u001b[0m     out \u001b[39m=\u001b[39m Tensor(\u001b[39mself\u001b[39;49m\u001b[39m.\u001b[39;49mdata[key], (\u001b[39mself\u001b[39m,), \u001b[39m'\u001b[39m\u001b[39mgetitem\u001b[39m\u001b[39m'\u001b[39m, requires_grad\u001b[39m=\u001b[39m\u001b[39mself\u001b[39m\u001b[39m.\u001b[39mrequires_grad)\n\u001b[1;32m    569\u001b[0m     \u001b[39mdef\u001b[39;00m \u001b[39m_backward\u001b[39m():\n\u001b[1;32m    570\u001b[0m \u001b[39m        \u001b[39m\u001b[39m\"\"\"\u001b[39;00m\n\u001b[1;32m    571\u001b[0m \u001b[39m        d/dx (index(x)) = 1\u001b[39;00m\n\u001b[1;32m    572\u001b[0m \u001b[39m        \"\"\"\u001b[39;00m\n",
      "\u001b[0;31mIndexError\u001b[0m: only integers, slices (`:`), ellipsis (`...`), numpy.newaxis (`None`) and integer or boolean arrays are valid indices"
     ]
    }
   ],
   "source": [
    "for epoch in range(EPOCHS):\n",
    "    model.train()\n",
    "    running_train_loss = 0.0\n",
    "    for x, y in train_loader:\n",
    "        optimizer.zero_grad()\n",
    "        out = model(x)\n",
    "        loss = criterion(out, y)\n",
    "        loss.backward()\n",
    "        optimizer.step()\n",
    "\n",
    "        running_train_loss += loss.data\n",
    "\n",
    "    running_test_loss = 0.0\n",
    "    for x, y in test_loader:\n",
    "        model.eval()\n",
    "        with no_grad():\n",
    "            out = model(x)\n",
    "            loss = criterion(out, y)\n",
    "            running_test_loss += loss.data\n",
    "\n",
    "    print(f\"Epoch {epoch+1/EPOCHS} | Train Loss: {running_train_loss/len(train_loader):0.4f} | Test Loss: {running_test_loss/len(test_loader):0.4f}\")"
   ]
  }
 ],
 "metadata": {
  "kernelspec": {
   "display_name": "venv",
   "language": "python",
   "name": "python3"
  },
  "language_info": {
   "codemirror_mode": {
    "name": "ipython",
    "version": 3
   },
   "file_extension": ".py",
   "mimetype": "text/x-python",
   "name": "python",
   "nbconvert_exporter": "python",
   "pygments_lexer": "ipython3",
   "version": "3.10.0"
  }
 },
 "nbformat": 4,
 "nbformat_minor": 2
}
