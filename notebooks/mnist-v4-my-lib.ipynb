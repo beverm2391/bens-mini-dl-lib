{
 "cells": [
  {
   "cell_type": "code",
   "execution_count": 1,
   "metadata": {},
   "outputs": [],
   "source": [
    "import math\n",
    "from time import perf_counter\n",
    "import numpy as np\n",
    "\n",
    "from lib.Tensor import Tensor, no_grad\n",
    "from lib.NN import ReLU, Dense, Module, CategoricalCrossEntropyLoss\n",
    "from lib.Optimizers import SGD\n",
    "from lib.data_utils import get_mnist\n",
    "from lib.dataloader import SimpleDataLoader"
   ]
  },
  {
   "cell_type": "code",
   "execution_count": 2,
   "metadata": {},
   "outputs": [],
   "source": [
    "path = \"/Users/beneverman/Documents/Coding/bens-mini-dl/data\"\n",
    "x_train, y_train, x_valid, y_valid = get_mnist(path)"
   ]
  },
  {
   "cell_type": "code",
   "execution_count": 3,
   "metadata": {},
   "outputs": [],
   "source": [
    "input_dim = x_train.shape[1] # number of features (pixels)\n",
    "output_dim = len(set(y_train)) # all unique class labels\n",
    "\n",
    "x_train_tensor, y_train_tensor = Tensor(x_train, requires_grad=False), Tensor(y_train, requires_grad=False)\n",
    "x_valid_tensor, y_valid_tensor = Tensor(x_valid, requires_grad=False), Tensor(y_valid, requires_grad=False)"
   ]
  },
  {
   "cell_type": "code",
   "execution_count": 4,
   "metadata": {},
   "outputs": [],
   "source": [
    "class MLP(Module):\n",
    "    def __init__(self, input_dim: int, output_dim: int):\n",
    "        super().__init__()\n",
    "        self.fc1 = Dense(input_dim, 64)\n",
    "        self.relu1 = ReLU()\n",
    "        self.fc2 = Dense(64, output_dim)\n",
    "\n",
    "    def forward(self, x):   \n",
    "        x = self.fc1(x)\n",
    "        x = self.relu1(x)\n",
    "        x = self.fc2(x)\n",
    "        return x"
   ]
  },
  {
   "cell_type": "code",
   "execution_count": 5,
   "metadata": {},
   "outputs": [],
   "source": [
    "model = MLP(input_dim, output_dim)\n",
    "\n",
    "EPOCHS = 20\n",
    "STEPS = 100 # num of batches per epoch\n",
    "BATCH_SIZE = 64\n",
    "max_batches_per_epoch = math.ceil(len(x_train) / BATCH_SIZE) # handle smaller last batch"
   ]
  },
  {
   "cell_type": "code",
   "execution_count": 8,
   "metadata": {},
   "outputs": [],
   "source": [
    "criterion = CategoricalCrossEntropyLoss()\n",
    "optimizer = SGD(model.parameters(), lr=0.001)"
   ]
  },
  {
   "cell_type": "code",
   "execution_count": 9,
   "metadata": {},
   "outputs": [
    {
     "ename": "NotImplementedError",
     "evalue": "",
     "output_type": "error",
     "traceback": [
      "\u001b[0;31m---------------------------------------------------------------------------\u001b[0m",
      "\u001b[0;31mNotImplementedError\u001b[0m                       Traceback (most recent call last)",
      "\u001b[1;32m/Users/beneverman/Documents/Coding/bens-mini-dl/notebooks/mnist-v4-my-lib.ipynb Cell 7\u001b[0m line \u001b[0;36m1\n\u001b[1;32m     <a href='vscode-notebook-cell:/Users/beneverman/Documents/Coding/bens-mini-dl/notebooks/mnist-v4-my-lib.ipynb#X10sZmlsZQ%3D%3D?line=14'>15</a>\u001b[0m labels \u001b[39m=\u001b[39m y_train_tensor[samp] \u001b[39m# get labels\u001b[39;00m\n\u001b[1;32m     <a href='vscode-notebook-cell:/Users/beneverman/Documents/Coding/bens-mini-dl/notebooks/mnist-v4-my-lib.ipynb#X10sZmlsZQ%3D%3D?line=16'>17</a>\u001b[0m out \u001b[39m=\u001b[39m model(batch) \u001b[39m# forward pass\u001b[39;00m\n\u001b[0;32m---> <a href='vscode-notebook-cell:/Users/beneverman/Documents/Coding/bens-mini-dl/notebooks/mnist-v4-my-lib.ipynb#X10sZmlsZQ%3D%3D?line=17'>18</a>\u001b[0m loss \u001b[39m=\u001b[39m criterion(out, labels) \u001b[39m# calculate loss\u001b[39;00m\n\u001b[1;32m     <a href='vscode-notebook-cell:/Users/beneverman/Documents/Coding/bens-mini-dl/notebooks/mnist-v4-my-lib.ipynb#X10sZmlsZQ%3D%3D?line=19'>20</a>\u001b[0m loss\u001b[39m.\u001b[39mbackward() \u001b[39m# backprop\u001b[39;00m\n\u001b[1;32m     <a href='vscode-notebook-cell:/Users/beneverman/Documents/Coding/bens-mini-dl/notebooks/mnist-v4-my-lib.ipynb#X10sZmlsZQ%3D%3D?line=20'>21</a>\u001b[0m optimizer\u001b[39m.\u001b[39mstep() \u001b[39m# update params\u001b[39;00m\n",
      "File \u001b[0;32m~/Documents/Coding/bens-mini-dl/lib/NN.py:56\u001b[0m, in \u001b[0;36mModule.__call__\u001b[0;34m(self, *args, **kwargs)\u001b[0m\n\u001b[0;32m---> 56\u001b[0m \u001b[39mdef\u001b[39;00m \u001b[39m__call__\u001b[39m(\u001b[39mself\u001b[39m, \u001b[39m*\u001b[39margs, \u001b[39m*\u001b[39m\u001b[39m*\u001b[39mkwargs): \u001b[39mreturn\u001b[39;00m \u001b[39mself\u001b[39;49m\u001b[39m.\u001b[39;49mforward(\u001b[39m*\u001b[39;49margs, \u001b[39m*\u001b[39;49m\u001b[39m*\u001b[39;49mkwargs)\n",
      "File \u001b[0;32m~/Documents/Coding/bens-mini-dl/lib/Tensor.py:613\u001b[0m, in \u001b[0;36mforce_tensor_method.<locals>.wrapper\u001b[0;34m(self, x, *args, **kwargs)\u001b[0m\n\u001b[1;32m    611\u001b[0m \u001b[39mif\u001b[39;00m \u001b[39mnot\u001b[39;00m \u001b[39misinstance\u001b[39m(x, Tensor):\n\u001b[1;32m    612\u001b[0m     \u001b[39mraise\u001b[39;00m \u001b[39mTypeError\u001b[39;00m(\u001b[39mf\u001b[39m\u001b[39m\"\u001b[39m\u001b[39mInput data to layer \u001b[39m\u001b[39m{\u001b[39;00mmethod\u001b[39m.\u001b[39m\u001b[39m__name__\u001b[39m\u001b[39m}\u001b[39;00m\u001b[39m need to be a Tensor, is \u001b[39m\u001b[39m{\u001b[39;00mx\u001b[39m.\u001b[39m\u001b[39m__class__\u001b[39m\u001b[39m.\u001b[39m\u001b[39m__name__\u001b[39m\u001b[39m}\u001b[39;00m\u001b[39m\"\u001b[39m)\n\u001b[0;32m--> 613\u001b[0m \u001b[39mreturn\u001b[39;00m method(\u001b[39mself\u001b[39;49m, x, \u001b[39m*\u001b[39;49margs, \u001b[39m*\u001b[39;49m\u001b[39m*\u001b[39;49mkwargs)\n",
      "File \u001b[0;32m~/Documents/Coding/bens-mini-dl/lib/NN.py:154\u001b[0m, in \u001b[0;36mCategoricalCrossEntropyLoss.forward\u001b[0;34m(self, x, y)\u001b[0m\n\u001b[1;32m    150\u001b[0m \u001b[39m@force_tensor_method\u001b[39m\n\u001b[1;32m    151\u001b[0m \u001b[39mdef\u001b[39;00m \u001b[39mforward\u001b[39m(\u001b[39mself\u001b[39m, x: Tensor, y: Tensor) \u001b[39m-\u001b[39m\u001b[39m>\u001b[39m Tensor:\n\u001b[1;32m    152\u001b[0m     \u001b[39m# this takes in class labels instead of one-hot vectors, just like pytorch\u001b[39;00m\n\u001b[1;32m    153\u001b[0m     \u001b[39mself\u001b[39m\u001b[39m.\u001b[39minput \u001b[39m=\u001b[39m (x, y) \u001b[39m# save input\u001b[39;00m\n\u001b[0;32m--> 154\u001b[0m     log_probs \u001b[39m=\u001b[39m \u001b[39mself\u001b[39;49m\u001b[39m.\u001b[39;49mlog_softmax\u001b[39m.\u001b[39;49mforward(x) \u001b[39m# Apply log softmax to the input tensor x\u001b[39;00m\n\u001b[1;32m    155\u001b[0m     loss \u001b[39m=\u001b[39m \u001b[39mself\u001b[39m\u001b[39m.\u001b[39mnll_loss\u001b[39m.\u001b[39mforward(log_probs, y) \u001b[39m# Compute the negative log likelihood loss\u001b[39;00m\n\u001b[1;32m    156\u001b[0m     \u001b[39mreturn\u001b[39;00m loss\n",
      "File \u001b[0;32m~/Documents/Coding/bens-mini-dl/lib/Tensor.py:613\u001b[0m, in \u001b[0;36mforce_tensor_method.<locals>.wrapper\u001b[0;34m(self, x, *args, **kwargs)\u001b[0m\n\u001b[1;32m    611\u001b[0m \u001b[39mif\u001b[39;00m \u001b[39mnot\u001b[39;00m \u001b[39misinstance\u001b[39m(x, Tensor):\n\u001b[1;32m    612\u001b[0m     \u001b[39mraise\u001b[39;00m \u001b[39mTypeError\u001b[39;00m(\u001b[39mf\u001b[39m\u001b[39m\"\u001b[39m\u001b[39mInput data to layer \u001b[39m\u001b[39m{\u001b[39;00mmethod\u001b[39m.\u001b[39m\u001b[39m__name__\u001b[39m\u001b[39m}\u001b[39;00m\u001b[39m need to be a Tensor, is \u001b[39m\u001b[39m{\u001b[39;00mx\u001b[39m.\u001b[39m\u001b[39m__class__\u001b[39m\u001b[39m.\u001b[39m\u001b[39m__name__\u001b[39m\u001b[39m}\u001b[39;00m\u001b[39m\"\u001b[39m)\n\u001b[0;32m--> 613\u001b[0m \u001b[39mreturn\u001b[39;00m method(\u001b[39mself\u001b[39;49m, x, \u001b[39m*\u001b[39;49margs, \u001b[39m*\u001b[39;49m\u001b[39m*\u001b[39;49mkwargs)\n",
      "File \u001b[0;32m~/Documents/Coding/bens-mini-dl/lib/NN.py:116\u001b[0m, in \u001b[0;36mLogSoftmax.forward\u001b[0;34m(self, x)\u001b[0m\n\u001b[1;32m    114\u001b[0m \u001b[39m@force_tensor_method\u001b[39m\n\u001b[1;32m    115\u001b[0m \u001b[39mdef\u001b[39;00m \u001b[39mforward\u001b[39m(\u001b[39mself\u001b[39m, x: Tensor) \u001b[39m-\u001b[39m\u001b[39m>\u001b[39m Tensor:\n\u001b[0;32m--> 116\u001b[0m     \u001b[39mraise\u001b[39;00m \u001b[39mNotImplementedError\u001b[39;00m\n",
      "\u001b[0;31mNotImplementedError\u001b[0m: "
     ]
    }
   ],
   "source": [
    "total_time = 0.0\n",
    "steps = min(STEPS, max_batches_per_epoch)\n",
    "for epoch in range(EPOCHS):\n",
    "    start = perf_counter()\n",
    "    running_train_loss = 0.0\n",
    "\n",
    "    for step in range(steps): # for each batch\n",
    "        model.train()\n",
    "        optimizer.zero_grad() # zero gradients\n",
    "\n",
    "        samp = np.random.randint(0, len(x_train), BATCH_SIZE) # get random indices\n",
    "\n",
    "        # get batch and labels\n",
    "        batch = x_train_tensor[samp] # get batch\n",
    "        labels = y_train_tensor[samp] # get labels\n",
    "\n",
    "        out = model(batch) # forward pass\n",
    "        loss = criterion(out, labels) # calculate loss\n",
    "\n",
    "        loss.backward() # backprop\n",
    "        optimizer.step() # update params\n",
    "\n",
    "        running_train_loss += loss.data # add loss to running total\n",
    "    \n",
    "    train_loss = running_train_loss / STEPS # loss over all batches / num batches\n",
    "\n",
    "    model.eval() # set model to eval mode\n",
    "\n",
    "    with no_grad(): # don't track gradients\n",
    "        # test accuracy\n",
    "        out = model(Tensor(x_valid, requires_grad=False)) # forward pass\n",
    "        pred =  np.argmax(out.data, axis=1) # get index of max value\n",
    "        accuracy = (pred == y_valid).mean() # calculate accuracy, no Tensor wrap because comparing arrays directly\n",
    "\n",
    "    elapsed = perf_counter() - start\n",
    "    total_time += elapsed\n",
    "\n",
    "    print(f\"Epoch {epoch+1}/{EPOCHS}: {steps} Batches (max: {max_batches_per_epoch}) | Train Loss: {train_loss:.4f} | Test Accuracy: {accuracy:.4f} | Time: {elapsed:.2f}s\")\n",
    "\n",
    "print(f\"Total training time: {total_time:.2f}s\")"
   ]
  }
 ],
 "metadata": {
  "kernelspec": {
   "display_name": "venv",
   "language": "python",
   "name": "python3"
  },
  "language_info": {
   "codemirror_mode": {
    "name": "ipython",
    "version": 3
   },
   "file_extension": ".py",
   "mimetype": "text/x-python",
   "name": "python",
   "nbconvert_exporter": "python",
   "pygments_lexer": "ipython3",
   "version": "3.10.0"
  }
 },
 "nbformat": 4,
 "nbformat_minor": 2
}
