{
 "cells": [
  {
   "cell_type": "code",
   "execution_count": 1,
   "metadata": {},
   "outputs": [],
   "source": [
    "import numpy as np\n",
    "\n",
    "from lib.Tensor import Tensor\n",
    "from lib.NN import NeuralNetwork as nn\n",
    "from lib.Loss import MSE\n",
    "from lib.Activations import ReLU\n",
    "from lib.Layers import Dense"
   ]
  },
  {
   "cell_type": "code",
   "execution_count": 2,
   "metadata": {},
   "outputs": [],
   "source": [
    "EPOCHS = 10\n",
    "LEARNING_RATE = 1e-2\n",
    "INPUT_DIM = 3\n",
    "OUTPUT_DIM = 3"
   ]
  },
  {
   "cell_type": "code",
   "execution_count": 3,
   "metadata": {},
   "outputs": [],
   "source": [
    "input_tensor = Tensor(np.random.randn(INPUT_DIM, OUTPUT_DIM))\n",
    "target_tensor = Tensor(np.random.randn(INPUT_DIM, OUTPUT_DIM))"
   ]
  },
  {
   "cell_type": "code",
   "execution_count": 4,
   "metadata": {},
   "outputs": [],
   "source": [
    "model = nn([\n",
    "    Dense(INPUT_DIM, OUTPUT_DIM, LEARNING_RATE),\n",
    "    ReLU(),\n",
    "])"
   ]
  },
  {
   "cell_type": "code",
   "execution_count": 5,
   "metadata": {},
   "outputs": [
    {
     "data": {
      "text/plain": [
       "Tensor([[0.01553439 0.00499852 0.00939963]\n",
       " [0.         0.         0.        ]\n",
       " [0.         0.01358844 0.        ]], requires_grad=True)"
      ]
     },
     "execution_count": 5,
     "metadata": {},
     "output_type": "execute_result"
    }
   ],
   "source": [
    "pred = model(input_tensor)\n",
    "pred"
   ]
  },
  {
   "cell_type": "code",
   "execution_count": 6,
   "metadata": {},
   "outputs": [
    {
     "ename": "TypeError",
     "evalue": "'>' not supported between instances of 'Tensor' and 'int'",
     "output_type": "error",
     "traceback": [
      "\u001b[0;31m---------------------------------------------------------------------------\u001b[0m",
      "\u001b[0;31mTypeError\u001b[0m                                 Traceback (most recent call last)",
      "Cell \u001b[0;32mIn[6], line 4\u001b[0m\n\u001b[1;32m      2\u001b[0m loss \u001b[39m=\u001b[39m criterion(pred, target_tensor)\n\u001b[1;32m      3\u001b[0m grad \u001b[39m=\u001b[39m criterion\u001b[39m.\u001b[39mbackward()\n\u001b[0;32m----> 4\u001b[0m model\u001b[39m.\u001b[39;49mbackward(grad)\n",
      "File \u001b[0;32m~/Documents/Coding/bens-mini-dl/lib/NN.py:19\u001b[0m, in \u001b[0;36mNeuralNetwork.backward\u001b[0;34m(self, loss_gradient)\u001b[0m\n\u001b[1;32m     17\u001b[0m \u001b[39mdef\u001b[39;00m \u001b[39mbackward\u001b[39m(\u001b[39mself\u001b[39m, loss_gradient):\n\u001b[1;32m     18\u001b[0m     \u001b[39mfor\u001b[39;00m layer \u001b[39min\u001b[39;00m \u001b[39mreversed\u001b[39m(\u001b[39mself\u001b[39m\u001b[39m.\u001b[39mlayers):\n\u001b[0;32m---> 19\u001b[0m         grad \u001b[39m=\u001b[39m layer\u001b[39m.\u001b[39;49mbackward(loss_gradient)\n",
      "File \u001b[0;32m~/Documents/Coding/bens-mini-dl/lib/Activations.py:36\u001b[0m, in \u001b[0;36mReLU.backward\u001b[0;34m(self, output_gradient)\u001b[0m\n\u001b[1;32m     35\u001b[0m \u001b[39mdef\u001b[39;00m \u001b[39mbackward\u001b[39m(\u001b[39mself\u001b[39m, output_gradient: Tensor):\n\u001b[0;32m---> 36\u001b[0m     input_gradient \u001b[39m=\u001b[39m Tensor(np\u001b[39m.\u001b[39mwhere(\u001b[39mself\u001b[39;49m\u001b[39m.\u001b[39;49minput \u001b[39m>\u001b[39;49m \u001b[39m0\u001b[39;49m, output_gradient\u001b[39m.\u001b[39mdata, \u001b[39m0\u001b[39m)) \u001b[39m# contains $ReLU'(x)$\u001b[39;00m\n\u001b[1;32m     37\u001b[0m     \u001b[39mreturn\u001b[39;00m input_gradient\n",
      "\u001b[0;31mTypeError\u001b[0m: '>' not supported between instances of 'Tensor' and 'int'"
     ]
    }
   ],
   "source": [
    "criterion = MSE()\n",
    "loss = criterion(pred, target_tensor)\n",
    "grad = criterion.backward()\n",
    "model.backward(grad)"
   ]
  },
  {
   "cell_type": "code",
   "execution_count": 5,
   "metadata": {},
   "outputs": [
    {
     "name": "stdout",
     "output_type": "stream",
     "text": [
      "Output type <class 'lib.Tensor.Tensor'>\n"
     ]
    },
    {
     "ename": "AttributeError",
     "evalue": "'Tensor' object has no attribute 'backward'",
     "output_type": "error",
     "traceback": [
      "\u001b[0;31m---------------------------------------------------------------------------\u001b[0m",
      "\u001b[0;31mAttributeError\u001b[0m                            Traceback (most recent call last)",
      "Cell \u001b[0;32mIn[5], line 5\u001b[0m\n\u001b[1;32m      3\u001b[0m loss \u001b[39m=\u001b[39m MSE()\n\u001b[1;32m      4\u001b[0m loss \u001b[39m=\u001b[39m loss(pred, target_tensor)\n\u001b[0;32m----> 5\u001b[0m grad \u001b[39m=\u001b[39m loss\u001b[39m.\u001b[39;49mbackward()\n\u001b[1;32m      6\u001b[0m model\u001b[39m.\u001b[39mbackward(grad)\n\u001b[1;32m      8\u001b[0m \u001b[39mfor\u001b[39;00m layer \u001b[39min\u001b[39;00m model\u001b[39m.\u001b[39mlayers:\n",
      "\u001b[0;31mAttributeError\u001b[0m: 'Tensor' object has no attribute 'backward'"
     ]
    }
   ],
   "source": [
    "for EPOCH in range(EPOCHS):\n",
    "    pred = model(input_tensor)\n",
    "    criterion = MSE()\n",
    "    loss = criterion(pred, target_tensor)\n",
    "    grad = loss.backward()\n",
    "    model.backward(grad)\n",
    "\n",
    "    for layer in model.layers:\n",
    "        layer.backward(grad)\n",
    "\n",
    "    print(f\"Epoch {EPOCH + 1} | Loss: {loss.data:.4f}\")"
   ]
  }
 ],
 "metadata": {
  "kernelspec": {
   "display_name": "venv",
   "language": "python",
   "name": "python3"
  },
  "language_info": {
   "codemirror_mode": {
    "name": "ipython",
    "version": 3
   },
   "file_extension": ".py",
   "mimetype": "text/x-python",
   "name": "python",
   "nbconvert_exporter": "python",
   "pygments_lexer": "ipython3",
   "version": "3.10.0"
  },
  "orig_nbformat": 4
 },
 "nbformat": 4,
 "nbformat_minor": 2
}
